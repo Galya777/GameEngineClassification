{
 "cells": [
  {
   "cell_type": "markdown",
   "id": "2769c81a-5d20-4cf5-bdae-8cd89176bd9d",
   "metadata": {},
   "source": [
    "Game engine Classification \n",
    "Data: GameEngines https://www.kaggle.com/datasets/igalbronshtein/game-engines?resource=download"
   ]
  },
  {
   "cell_type": "markdown",
   "id": "5d14a391-9bf7-4411-b13f-e15c368a3506",
   "metadata": {},
   "source": [
    "IMPORT"
   ]
  },
  {
   "cell_type": "code",
   "execution_count": 1,
   "id": "b1004e2c-0f10-46f1-a7f0-bbed90495275",
   "metadata": {
    "tags": []
   },
   "outputs": [],
   "source": [
    "import pandas as pd\n",
    "import numpy as np\n",
    "import matplotlib.pyplot as plt\n",
    "import seaborn as sns\n",
    "from itertools import product"
   ]
  },
  {
   "cell_type": "code",
   "execution_count": 73,
   "id": "fdf3c398-f744-4b60-8b50-8395fa640fb9",
   "metadata": {
    "tags": []
   },
   "outputs": [],
   "source": [
    "from imblearn.over_sampling import RandomOverSampler\n",
    "from imblearn.under_sampling import RandomUnderSampler\n",
    "\n",
    "from imblearn.over_sampling import SMOTE\n",
    "from imblearn.under_sampling import NearMiss\n",
    "\n",
    "from sklearn.model_selection import train_test_split, RandomizedSearchCV\n",
    "from sklearn.preprocessing import StandardScaler\n",
    "\n",
    "from sklearn.svm import SVC\n",
    "\n",
    "from sklearn.metrics import classification_report, f1_score\n",
    "\n",
    "from sklearn.linear_model import LogisticRegression\n",
    "from sklearn.neighbors import KNeighborsClassifier\n",
    "from sklearn.tree import DecisionTreeClassifier, plot_tree\n",
    "from sklearn.ensemble import RandomForestClassifier\n",
    "from sklearn import preprocessing\n",
    "from sklearn import utils\n",
    "from sklearn.metrics import r2_score"
   ]
  },
  {
   "cell_type": "code",
   "execution_count": 3,
   "id": "f8198cde-0b78-4126-9b44-6bd3a5f3e1cf",
   "metadata": {
    "tags": []
   },
   "outputs": [
    {
     "data": {
      "text/html": [
       "<div>\n",
       "<style scoped>\n",
       "    .dataframe tbody tr th:only-of-type {\n",
       "        vertical-align: middle;\n",
       "    }\n",
       "\n",
       "    .dataframe tbody tr th {\n",
       "        vertical-align: top;\n",
       "    }\n",
       "\n",
       "    .dataframe thead th {\n",
       "        text-align: right;\n",
       "    }\n",
       "</style>\n",
       "<table border=\"1\" class=\"dataframe\">\n",
       "  <thead>\n",
       "    <tr style=\"text-align: right;\">\n",
       "      <th></th>\n",
       "      <th>name</th>\n",
       "      <th>facebook</th>\n",
       "      <th>facebook_likes</th>\n",
       "      <th>facebook_followers</th>\n",
       "      <th>twitter</th>\n",
       "      <th>youtube</th>\n",
       "      <th>youtube_subscribers</th>\n",
       "      <th>youtube_videos</th>\n",
       "      <th>tiktok</th>\n",
       "      <th>snapchat</th>\n",
       "      <th>...</th>\n",
       "      <th>g2_reviews</th>\n",
       "      <th>producthunt</th>\n",
       "      <th>capterra</th>\n",
       "      <th>capterra_stars</th>\n",
       "      <th>capterra_ratings_num</th>\n",
       "      <th>similarweb</th>\n",
       "      <th>similarweb_total_visits</th>\n",
       "      <th>similarweb_bounce_rate</th>\n",
       "      <th>similarweb_pages_visit</th>\n",
       "      <th>similarweb_avg_visit</th>\n",
       "    </tr>\n",
       "  </thead>\n",
       "  <tbody>\n",
       "    <tr>\n",
       "      <th>0</th>\n",
       "      <td>Clickteam Fusion</td>\n",
       "      <td>https://www.facebook.com/clickteam</td>\n",
       "      <td>11K</td>\n",
       "      <td>11K</td>\n",
       "      <td>http://twitter.com/clickteam</td>\n",
       "      <td>https://www.youtube.com/@ClickteamLLC</td>\n",
       "      <td>56.6K</td>\n",
       "      <td>372</td>\n",
       "      <td>x</td>\n",
       "      <td>x</td>\n",
       "      <td>...</td>\n",
       "      <td>x</td>\n",
       "      <td>x</td>\n",
       "      <td>https://www.capterra.com/p/250587/Clickteam-Fu...</td>\n",
       "      <td>x</td>\n",
       "      <td>x</td>\n",
       "      <td>https://www.similarweb.com/website/clickteam.c...</td>\n",
       "      <td>102.8K</td>\n",
       "      <td>46.70</td>\n",
       "      <td>3.24</td>\n",
       "      <td>00:02:05</td>\n",
       "    </tr>\n",
       "    <tr>\n",
       "      <th>1</th>\n",
       "      <td>Construct 3</td>\n",
       "      <td>https://www.facebook.com/ConstructTeam</td>\n",
       "      <td>23K</td>\n",
       "      <td>23K</td>\n",
       "      <td>https://twitter.com/ConstructTeam</td>\n",
       "      <td>https://www.youtube.com/c/Construct</td>\n",
       "      <td>15.5K</td>\n",
       "      <td>293</td>\n",
       "      <td>x</td>\n",
       "      <td>x</td>\n",
       "      <td>...</td>\n",
       "      <td>22</td>\n",
       "      <td>x</td>\n",
       "      <td>https://www.capterra.com/p/201543/Construct-3</td>\n",
       "      <td>4.7</td>\n",
       "      <td>208</td>\n",
       "      <td>https://www.similarweb.com/website/construct.n...</td>\n",
       "      <td>910.7K</td>\n",
       "      <td>43.18</td>\n",
       "      <td>6.43</td>\n",
       "      <td>00:11:41</td>\n",
       "    </tr>\n",
       "    <tr>\n",
       "      <th>2</th>\n",
       "      <td>CryEngine</td>\n",
       "      <td>https://www.facebook.com/cryengineofficial</td>\n",
       "      <td>43K</td>\n",
       "      <td>43K</td>\n",
       "      <td>https://twitter.com/cryengine</td>\n",
       "      <td>https://www.youtube.com/cryengine</td>\n",
       "      <td>50.1K</td>\n",
       "      <td>355</td>\n",
       "      <td>x</td>\n",
       "      <td>x</td>\n",
       "      <td>...</td>\n",
       "      <td>16</td>\n",
       "      <td>x</td>\n",
       "      <td>https://www.capterra.com/p/210664/CRYENGINE</td>\n",
       "      <td>4.8</td>\n",
       "      <td>6</td>\n",
       "      <td>https://www.similarweb.com/website/cryengine.c...</td>\n",
       "      <td>115.2K</td>\n",
       "      <td>54.23</td>\n",
       "      <td>2.60</td>\n",
       "      <td>00:01:45</td>\n",
       "    </tr>\n",
       "    <tr>\n",
       "      <th>3</th>\n",
       "      <td>Game Maker</td>\n",
       "      <td>https://www.facebook.com/GameMakerEngine</td>\n",
       "      <td>255K</td>\n",
       "      <td>256K</td>\n",
       "      <td>https://twitter.com/GameMakerEngine</td>\n",
       "      <td>https://www.youtube.com/@GameMakerEngine</td>\n",
       "      <td>62.6K</td>\n",
       "      <td>155</td>\n",
       "      <td>x</td>\n",
       "      <td>x</td>\n",
       "      <td>...</td>\n",
       "      <td>32</td>\n",
       "      <td>x</td>\n",
       "      <td>https://www.capterra.com/p/158594/GameMaker-St...</td>\n",
       "      <td>4.4</td>\n",
       "      <td>91</td>\n",
       "      <td>https://www.similarweb.com/website/gamemaker.i...</td>\n",
       "      <td>1.3M</td>\n",
       "      <td>45.51</td>\n",
       "      <td>3.66</td>\n",
       "      <td>00:04:43</td>\n",
       "    </tr>\n",
       "    <tr>\n",
       "      <th>4</th>\n",
       "      <td>GameSalad</td>\n",
       "      <td>https://www.facebook.com/gamesalad</td>\n",
       "      <td>7.1K</td>\n",
       "      <td>7K</td>\n",
       "      <td>https://twitter.com/gamesalad</td>\n",
       "      <td>https://www.youtube.com/@gamesalad</td>\n",
       "      <td>8.69K</td>\n",
       "      <td>70</td>\n",
       "      <td>x</td>\n",
       "      <td>x</td>\n",
       "      <td>...</td>\n",
       "      <td>15</td>\n",
       "      <td>x</td>\n",
       "      <td>https://www.capterra.com/p/158595/GameSalad</td>\n",
       "      <td>4.1</td>\n",
       "      <td>23</td>\n",
       "      <td>https://www.similarweb.com/website/gamesalad.c...</td>\n",
       "      <td>111.7K</td>\n",
       "      <td>52.96</td>\n",
       "      <td>6.21</td>\n",
       "      <td>00:06:19</td>\n",
       "    </tr>\n",
       "    <tr>\n",
       "      <th>5</th>\n",
       "      <td>Gdevelop</td>\n",
       "      <td>https://www.facebook.com/GDevelopApp</td>\n",
       "      <td>3.2K</td>\n",
       "      <td>4.4K</td>\n",
       "      <td>https://twitter.com/GDevelopApp</td>\n",
       "      <td>https://www.youtube.com/@GDevelopApp</td>\n",
       "      <td>21.8K</td>\n",
       "      <td>118</td>\n",
       "      <td>https://www.tiktok.com/@gdevelop</td>\n",
       "      <td>x</td>\n",
       "      <td>...</td>\n",
       "      <td>18</td>\n",
       "      <td>https://www.producthunt.com/products/gdevelop</td>\n",
       "      <td>https://www.capterra.com/p/158592/GDevelop</td>\n",
       "      <td>4.8</td>\n",
       "      <td>8</td>\n",
       "      <td>https://www.similarweb.com/website/gdevelop.io...</td>\n",
       "      <td>507.7K</td>\n",
       "      <td>38.53</td>\n",
       "      <td>6.18</td>\n",
       "      <td>00:07:08</td>\n",
       "    </tr>\n",
       "    <tr>\n",
       "      <th>6</th>\n",
       "      <td>Godot</td>\n",
       "      <td>https://www.facebook.com/godotdevelopers</td>\n",
       "      <td>7.5K</td>\n",
       "      <td>8.6K</td>\n",
       "      <td>https://twitter.com/godotengine</td>\n",
       "      <td>https://www.youtube.com/@GodotEngineOfficial</td>\n",
       "      <td>54.5K</td>\n",
       "      <td>88</td>\n",
       "      <td>x</td>\n",
       "      <td>x</td>\n",
       "      <td>...</td>\n",
       "      <td>19</td>\n",
       "      <td>https://www.producthunt.com/products/godot#godot</td>\n",
       "      <td>https://www.capterra.com/p/234843/Godot-Engine</td>\n",
       "      <td>4.5</td>\n",
       "      <td>12</td>\n",
       "      <td>https://www.similarweb.com/website/godotengine...</td>\n",
       "      <td>1.8M</td>\n",
       "      <td>43.32</td>\n",
       "      <td>3.85</td>\n",
       "      <td>00:05:39</td>\n",
       "    </tr>\n",
       "    <tr>\n",
       "      <th>7</th>\n",
       "      <td>Open 3D Engine</td>\n",
       "      <td>https://www.facebook.com/Open3DEngine</td>\n",
       "      <td>79</td>\n",
       "      <td>92</td>\n",
       "      <td>https://twitter.com/o3dengine</td>\n",
       "      <td>https://www.youtube.com/channel/UCTC8GDw1XidOT...</td>\n",
       "      <td>3.84K</td>\n",
       "      <td>154</td>\n",
       "      <td>x</td>\n",
       "      <td>x</td>\n",
       "      <td>...</td>\n",
       "      <td>x</td>\n",
       "      <td>x</td>\n",
       "      <td>x</td>\n",
       "      <td>x</td>\n",
       "      <td>x</td>\n",
       "      <td>https://www.similarweb.com/website/o3de.org/#o...</td>\n",
       "      <td>52.4K</td>\n",
       "      <td>45.90</td>\n",
       "      <td>4.11</td>\n",
       "      <td>00:04:50</td>\n",
       "    </tr>\n",
       "    <tr>\n",
       "      <th>8</th>\n",
       "      <td>PlayCanvas</td>\n",
       "      <td>https://www.facebook.com/playcanvas</td>\n",
       "      <td>1.4K</td>\n",
       "      <td>1.5K</td>\n",
       "      <td>https://twitter.com/playcanvas</td>\n",
       "      <td>https://www.youtube.com/@playcanvas</td>\n",
       "      <td>2.98K</td>\n",
       "      <td>52</td>\n",
       "      <td>x</td>\n",
       "      <td>x</td>\n",
       "      <td>...</td>\n",
       "      <td>6</td>\n",
       "      <td>https://www.producthunt.com/products/playcanvas</td>\n",
       "      <td>https://www.capterra.com/p/210379/PlayCanvas</td>\n",
       "      <td>x</td>\n",
       "      <td>x</td>\n",
       "      <td>https://www.similarweb.com/website/playcanvas....</td>\n",
       "      <td>315.3K</td>\n",
       "      <td>36.48</td>\n",
       "      <td>7.24</td>\n",
       "      <td>00:11:55</td>\n",
       "    </tr>\n",
       "    <tr>\n",
       "      <th>9</th>\n",
       "      <td>Stencyl</td>\n",
       "      <td>https://www.facebook.com/stencyl</td>\n",
       "      <td>8.1K</td>\n",
       "      <td>8.1K</td>\n",
       "      <td>https://twitter.com/Stencyl</td>\n",
       "      <td>x</td>\n",
       "      <td>x</td>\n",
       "      <td>x</td>\n",
       "      <td>x</td>\n",
       "      <td>x</td>\n",
       "      <td>...</td>\n",
       "      <td>12</td>\n",
       "      <td>https://www.producthunt.com/products/stencyl</td>\n",
       "      <td>https://www.capterra.com/p/158598/Stencyl</td>\n",
       "      <td>4.5</td>\n",
       "      <td>11</td>\n",
       "      <td>https://www.similarweb.com/website/stencyl.com...</td>\n",
       "      <td>55.8K</td>\n",
       "      <td>44.16</td>\n",
       "      <td>1.98</td>\n",
       "      <td>00:04:43</td>\n",
       "    </tr>\n",
       "    <tr>\n",
       "      <th>10</th>\n",
       "      <td>Unity</td>\n",
       "      <td>https://www.facebook.com/unity3d</td>\n",
       "      <td>830789</td>\n",
       "      <td>853881</td>\n",
       "      <td>https://twitter.com/unity</td>\n",
       "      <td>https://www.youtube.com/user/Unity3D</td>\n",
       "      <td>1.16M</td>\n",
       "      <td>2.6K</td>\n",
       "      <td>x</td>\n",
       "      <td>x</td>\n",
       "      <td>...</td>\n",
       "      <td>336</td>\n",
       "      <td>https://www.producthunt.com/products/unity-3d#...</td>\n",
       "      <td>https://www.capterra.com/p/158591/Unity</td>\n",
       "      <td>4.6</td>\n",
       "      <td>757</td>\n",
       "      <td>https://www.similarweb.com/website/unity.com/#...</td>\n",
       "      <td>13.3M</td>\n",
       "      <td>40.18</td>\n",
       "      <td>7.60</td>\n",
       "      <td>00:06:38</td>\n",
       "    </tr>\n",
       "    <tr>\n",
       "      <th>11</th>\n",
       "      <td>Unreal Engine</td>\n",
       "      <td>https://www.facebook.com/UnrealEngine</td>\n",
       "      <td>498K</td>\n",
       "      <td>x</td>\n",
       "      <td>https://twitter.com/unrealengine</td>\n",
       "      <td>http://www.youtube.com/unrealengine</td>\n",
       "      <td>979K</td>\n",
       "      <td>2.3K</td>\n",
       "      <td>x</td>\n",
       "      <td>x</td>\n",
       "      <td>...</td>\n",
       "      <td>123</td>\n",
       "      <td>https://www.producthunt.com/products/unreal-en...</td>\n",
       "      <td>https://www.capterra.com/p/158599/Unreal-Engine</td>\n",
       "      <td>4.8</td>\n",
       "      <td>354</td>\n",
       "      <td>https://www.similarweb.com/website/unrealengin...</td>\n",
       "      <td>8.9M</td>\n",
       "      <td>39.54</td>\n",
       "      <td>5.03</td>\n",
       "      <td>00:05:21</td>\n",
       "    </tr>\n",
       "  </tbody>\n",
       "</table>\n",
       "<p>12 rows × 32 columns</p>\n",
       "</div>"
      ],
      "text/plain": [
       "                name                                    facebook  \\\n",
       "0   Clickteam Fusion          https://www.facebook.com/clickteam   \n",
       "1        Construct 3      https://www.facebook.com/ConstructTeam   \n",
       "2          CryEngine  https://www.facebook.com/cryengineofficial   \n",
       "3         Game Maker    https://www.facebook.com/GameMakerEngine   \n",
       "4          GameSalad          https://www.facebook.com/gamesalad   \n",
       "5           Gdevelop        https://www.facebook.com/GDevelopApp   \n",
       "6              Godot    https://www.facebook.com/godotdevelopers   \n",
       "7     Open 3D Engine       https://www.facebook.com/Open3DEngine   \n",
       "8         PlayCanvas         https://www.facebook.com/playcanvas   \n",
       "9            Stencyl            https://www.facebook.com/stencyl   \n",
       "10             Unity            https://www.facebook.com/unity3d   \n",
       "11     Unreal Engine       https://www.facebook.com/UnrealEngine   \n",
       "\n",
       "   facebook_likes facebook_followers                              twitter  \\\n",
       "0             11K                11K         http://twitter.com/clickteam   \n",
       "1             23K                23K    https://twitter.com/ConstructTeam   \n",
       "2             43K                43K        https://twitter.com/cryengine   \n",
       "3            255K               256K  https://twitter.com/GameMakerEngine   \n",
       "4            7.1K                 7K        https://twitter.com/gamesalad   \n",
       "5            3.2K               4.4K      https://twitter.com/GDevelopApp   \n",
       "6            7.5K               8.6K      https://twitter.com/godotengine   \n",
       "7              79                 92        https://twitter.com/o3dengine   \n",
       "8            1.4K               1.5K       https://twitter.com/playcanvas   \n",
       "9            8.1K               8.1K          https://twitter.com/Stencyl   \n",
       "10         830789             853881            https://twitter.com/unity   \n",
       "11           498K                  x     https://twitter.com/unrealengine   \n",
       "\n",
       "                                              youtube youtube_subscribers  \\\n",
       "0               https://www.youtube.com/@ClickteamLLC               56.6K   \n",
       "1                 https://www.youtube.com/c/Construct               15.5K   \n",
       "2                   https://www.youtube.com/cryengine               50.1K   \n",
       "3            https://www.youtube.com/@GameMakerEngine               62.6K   \n",
       "4                  https://www.youtube.com/@gamesalad               8.69K   \n",
       "5                https://www.youtube.com/@GDevelopApp               21.8K   \n",
       "6        https://www.youtube.com/@GodotEngineOfficial               54.5K   \n",
       "7   https://www.youtube.com/channel/UCTC8GDw1XidOT...               3.84K   \n",
       "8                 https://www.youtube.com/@playcanvas               2.98K   \n",
       "9                                                   x                   x   \n",
       "10               https://www.youtube.com/user/Unity3D               1.16M   \n",
       "11                http://www.youtube.com/unrealengine                979K   \n",
       "\n",
       "   youtube_videos                            tiktok snapchat  ... g2_reviews  \\\n",
       "0             372                                 x        x  ...          x   \n",
       "1             293                                 x        x  ...         22   \n",
       "2             355                                 x        x  ...         16   \n",
       "3             155                                 x        x  ...         32   \n",
       "4              70                                 x        x  ...         15   \n",
       "5             118  https://www.tiktok.com/@gdevelop        x  ...         18   \n",
       "6              88                                 x        x  ...         19   \n",
       "7             154                                 x        x  ...          x   \n",
       "8              52                                 x        x  ...          6   \n",
       "9               x                                 x        x  ...         12   \n",
       "10           2.6K                                 x        x  ...        336   \n",
       "11           2.3K                                 x        x  ...        123   \n",
       "\n",
       "                                          producthunt  \\\n",
       "0                                                   x   \n",
       "1                                                   x   \n",
       "2                                                   x   \n",
       "3                                                   x   \n",
       "4                                                   x   \n",
       "5       https://www.producthunt.com/products/gdevelop   \n",
       "6    https://www.producthunt.com/products/godot#godot   \n",
       "7                                                   x   \n",
       "8     https://www.producthunt.com/products/playcanvas   \n",
       "9        https://www.producthunt.com/products/stencyl   \n",
       "10  https://www.producthunt.com/products/unity-3d#...   \n",
       "11  https://www.producthunt.com/products/unreal-en...   \n",
       "\n",
       "                                             capterra capterra_stars  \\\n",
       "0   https://www.capterra.com/p/250587/Clickteam-Fu...              x   \n",
       "1       https://www.capterra.com/p/201543/Construct-3            4.7   \n",
       "2         https://www.capterra.com/p/210664/CRYENGINE            4.8   \n",
       "3   https://www.capterra.com/p/158594/GameMaker-St...            4.4   \n",
       "4         https://www.capterra.com/p/158595/GameSalad            4.1   \n",
       "5          https://www.capterra.com/p/158592/GDevelop            4.8   \n",
       "6      https://www.capterra.com/p/234843/Godot-Engine            4.5   \n",
       "7                                                   x              x   \n",
       "8        https://www.capterra.com/p/210379/PlayCanvas              x   \n",
       "9           https://www.capterra.com/p/158598/Stencyl            4.5   \n",
       "10            https://www.capterra.com/p/158591/Unity            4.6   \n",
       "11    https://www.capterra.com/p/158599/Unreal-Engine            4.8   \n",
       "\n",
       "   capterra_ratings_num                                         similarweb  \\\n",
       "0                     x  https://www.similarweb.com/website/clickteam.c...   \n",
       "1                   208  https://www.similarweb.com/website/construct.n...   \n",
       "2                     6  https://www.similarweb.com/website/cryengine.c...   \n",
       "3                    91  https://www.similarweb.com/website/gamemaker.i...   \n",
       "4                    23  https://www.similarweb.com/website/gamesalad.c...   \n",
       "5                     8  https://www.similarweb.com/website/gdevelop.io...   \n",
       "6                    12  https://www.similarweb.com/website/godotengine...   \n",
       "7                     x  https://www.similarweb.com/website/o3de.org/#o...   \n",
       "8                     x  https://www.similarweb.com/website/playcanvas....   \n",
       "9                    11  https://www.similarweb.com/website/stencyl.com...   \n",
       "10                  757  https://www.similarweb.com/website/unity.com/#...   \n",
       "11                  354  https://www.similarweb.com/website/unrealengin...   \n",
       "\n",
       "   similarweb_total_visits  similarweb_bounce_rate similarweb_pages_visit  \\\n",
       "0                   102.8K                   46.70                   3.24   \n",
       "1                   910.7K                   43.18                   6.43   \n",
       "2                   115.2K                   54.23                   2.60   \n",
       "3                     1.3M                   45.51                   3.66   \n",
       "4                   111.7K                   52.96                   6.21   \n",
       "5                   507.7K                   38.53                   6.18   \n",
       "6                     1.8M                   43.32                   3.85   \n",
       "7                    52.4K                   45.90                   4.11   \n",
       "8                   315.3K                   36.48                   7.24   \n",
       "9                    55.8K                   44.16                   1.98   \n",
       "10                   13.3M                   40.18                   7.60   \n",
       "11                    8.9M                   39.54                   5.03   \n",
       "\n",
       "   similarweb_avg_visit  \n",
       "0              00:02:05  \n",
       "1              00:11:41  \n",
       "2              00:01:45  \n",
       "3              00:04:43  \n",
       "4              00:06:19  \n",
       "5              00:07:08  \n",
       "6              00:05:39  \n",
       "7              00:04:50  \n",
       "8              00:11:55  \n",
       "9              00:04:43  \n",
       "10             00:06:38  \n",
       "11             00:05:21  \n",
       "\n",
       "[12 rows x 32 columns]"
      ]
     },
     "execution_count": 3,
     "metadata": {},
     "output_type": "execute_result"
    }
   ],
   "source": [
    "df = pd.read_csv('engines.csv')\n",
    "df\n"
   ]
  },
  {
   "cell_type": "markdown",
   "id": "1b48d781-080e-4753-a381-a29209ed9678",
   "metadata": {},
   "source": [
    "DataExploration"
   ]
  },
  {
   "cell_type": "code",
   "execution_count": 4,
   "id": "7756473e-d22a-4845-acba-b1e21effa78d",
   "metadata": {
    "tags": []
   },
   "outputs": [
    {
     "name": "stdout",
     "output_type": "stream",
     "text": [
      "<class 'pandas.core.frame.DataFrame'>\n",
      "RangeIndex: 12 entries, 0 to 11\n",
      "Data columns (total 32 columns):\n",
      " #   Column                     Non-Null Count  Dtype  \n",
      "---  ------                     --------------  -----  \n",
      " 0   name                       12 non-null     object \n",
      " 1   facebook                   12 non-null     object \n",
      " 2   facebook_likes             12 non-null     object \n",
      " 3   facebook_followers         12 non-null     object \n",
      " 4   twitter                    12 non-null     object \n",
      " 5   youtube                    12 non-null     object \n",
      " 6   youtube_subscribers        12 non-null     object \n",
      " 7   youtube_videos             12 non-null     object \n",
      " 8   tiktok                     12 non-null     object \n",
      " 9   snapchat                   12 non-null     object \n",
      " 10  linkedin                   12 non-null     object \n",
      " 11  wikipedia                  12 non-null     object \n",
      " 12  wikipedia_languages_num    12 non-null     int64  \n",
      " 13  site                       12 non-null     object \n",
      " 14  github                     12 non-null     object \n",
      " 15  github_followers           12 non-null     object \n",
      " 16  alternativeto              12 non-null     object \n",
      " 17  alternativeto_likes        12 non-null     int64  \n",
      " 18  alternativeto_stars        12 non-null     object \n",
      " 19  alternativeto_ratings_num  12 non-null     object \n",
      " 20  g2                         12 non-null     object \n",
      " 21  g2_stars                   12 non-null     object \n",
      " 22  g2_reviews                 12 non-null     object \n",
      " 23  producthunt                12 non-null     object \n",
      " 24  capterra                   12 non-null     object \n",
      " 25  capterra_stars             12 non-null     object \n",
      " 26  capterra_ratings_num       12 non-null     object \n",
      " 27  similarweb                 12 non-null     object \n",
      " 28  similarweb_total_visits    12 non-null     object \n",
      " 29  similarweb_bounce_rate     12 non-null     float64\n",
      " 30  similarweb_pages_visit     12 non-null     float64\n",
      " 31  similarweb_avg_visit       12 non-null     object \n",
      "dtypes: float64(2), int64(2), object(28)\n",
      "memory usage: 3.1+ KB\n"
     ]
    }
   ],
   "source": [
    "df.info()"
   ]
  },
  {
   "cell_type": "code",
   "execution_count": 5,
   "id": "95b6cdb0-11cf-48ac-a852-48fdedb26ebd",
   "metadata": {
    "tags": []
   },
   "outputs": [
    {
     "data": {
      "text/html": [
       "<div>\n",
       "<style scoped>\n",
       "    .dataframe tbody tr th:only-of-type {\n",
       "        vertical-align: middle;\n",
       "    }\n",
       "\n",
       "    .dataframe tbody tr th {\n",
       "        vertical-align: top;\n",
       "    }\n",
       "\n",
       "    .dataframe thead th {\n",
       "        text-align: right;\n",
       "    }\n",
       "</style>\n",
       "<table border=\"1\" class=\"dataframe\">\n",
       "  <thead>\n",
       "    <tr style=\"text-align: right;\">\n",
       "      <th></th>\n",
       "      <th>wikipedia_languages_num</th>\n",
       "      <th>alternativeto_likes</th>\n",
       "      <th>similarweb_bounce_rate</th>\n",
       "      <th>similarweb_pages_visit</th>\n",
       "    </tr>\n",
       "  </thead>\n",
       "  <tbody>\n",
       "    <tr>\n",
       "      <th>count</th>\n",
       "      <td>12.000000</td>\n",
       "      <td>12.000000</td>\n",
       "      <td>12.000000</td>\n",
       "      <td>12.000000</td>\n",
       "    </tr>\n",
       "    <tr>\n",
       "      <th>mean</th>\n",
       "      <td>18.250000</td>\n",
       "      <td>119.750000</td>\n",
       "      <td>44.224167</td>\n",
       "      <td>4.844167</td>\n",
       "    </tr>\n",
       "    <tr>\n",
       "      <th>std</th>\n",
       "      <td>18.708894</td>\n",
       "      <td>139.313985</td>\n",
       "      <td>5.390457</td>\n",
       "      <td>1.865395</td>\n",
       "    </tr>\n",
       "    <tr>\n",
       "      <th>min</th>\n",
       "      <td>2.000000</td>\n",
       "      <td>10.000000</td>\n",
       "      <td>36.480000</td>\n",
       "      <td>1.980000</td>\n",
       "    </tr>\n",
       "    <tr>\n",
       "      <th>25%</th>\n",
       "      <td>4.000000</td>\n",
       "      <td>33.750000</td>\n",
       "      <td>40.020000</td>\n",
       "      <td>3.555000</td>\n",
       "    </tr>\n",
       "    <tr>\n",
       "      <th>50%</th>\n",
       "      <td>7.000000</td>\n",
       "      <td>64.000000</td>\n",
       "      <td>43.740000</td>\n",
       "      <td>4.570000</td>\n",
       "    </tr>\n",
       "    <tr>\n",
       "      <th>75%</th>\n",
       "      <td>28.750000</td>\n",
       "      <td>158.000000</td>\n",
       "      <td>46.100000</td>\n",
       "      <td>6.265000</td>\n",
       "    </tr>\n",
       "    <tr>\n",
       "      <th>max</th>\n",
       "      <td>53.000000</td>\n",
       "      <td>449.000000</td>\n",
       "      <td>54.230000</td>\n",
       "      <td>7.600000</td>\n",
       "    </tr>\n",
       "  </tbody>\n",
       "</table>\n",
       "</div>"
      ],
      "text/plain": [
       "       wikipedia_languages_num  alternativeto_likes  similarweb_bounce_rate  \\\n",
       "count                12.000000            12.000000               12.000000   \n",
       "mean                 18.250000           119.750000               44.224167   \n",
       "std                  18.708894           139.313985                5.390457   \n",
       "min                   2.000000            10.000000               36.480000   \n",
       "25%                   4.000000            33.750000               40.020000   \n",
       "50%                   7.000000            64.000000               43.740000   \n",
       "75%                  28.750000           158.000000               46.100000   \n",
       "max                  53.000000           449.000000               54.230000   \n",
       "\n",
       "       similarweb_pages_visit  \n",
       "count               12.000000  \n",
       "mean                 4.844167  \n",
       "std                  1.865395  \n",
       "min                  1.980000  \n",
       "25%                  3.555000  \n",
       "50%                  4.570000  \n",
       "75%                  6.265000  \n",
       "max                  7.600000  "
      ]
     },
     "execution_count": 5,
     "metadata": {},
     "output_type": "execute_result"
    }
   ],
   "source": [
    "df.describe()"
   ]
  },
  {
   "cell_type": "code",
   "execution_count": 6,
   "id": "2e856bd3-0d92-470c-965b-89961021eb3e",
   "metadata": {
    "tags": []
   },
   "outputs": [],
   "source": [
    "numeric_columns = df.describe().columns.to_list()"
   ]
  },
  {
   "cell_type": "code",
   "execution_count": 7,
   "id": "1362af33-370b-432b-a080-af879906be24",
   "metadata": {
    "tags": []
   },
   "outputs": [
    {
     "data": {
      "text/html": [
       "<div>\n",
       "<style scoped>\n",
       "    .dataframe tbody tr th:only-of-type {\n",
       "        vertical-align: middle;\n",
       "    }\n",
       "\n",
       "    .dataframe tbody tr th {\n",
       "        vertical-align: top;\n",
       "    }\n",
       "\n",
       "    .dataframe thead th {\n",
       "        text-align: right;\n",
       "    }\n",
       "</style>\n",
       "<table border=\"1\" class=\"dataframe\">\n",
       "  <thead>\n",
       "    <tr style=\"text-align: right;\">\n",
       "      <th></th>\n",
       "      <th>name</th>\n",
       "      <th>facebook</th>\n",
       "      <th>facebook_likes</th>\n",
       "      <th>facebook_followers</th>\n",
       "      <th>twitter</th>\n",
       "      <th>youtube</th>\n",
       "      <th>youtube_subscribers</th>\n",
       "      <th>youtube_videos</th>\n",
       "      <th>tiktok</th>\n",
       "      <th>snapchat</th>\n",
       "      <th>...</th>\n",
       "      <th>g2</th>\n",
       "      <th>g2_stars</th>\n",
       "      <th>g2_reviews</th>\n",
       "      <th>producthunt</th>\n",
       "      <th>capterra</th>\n",
       "      <th>capterra_stars</th>\n",
       "      <th>capterra_ratings_num</th>\n",
       "      <th>similarweb</th>\n",
       "      <th>similarweb_total_visits</th>\n",
       "      <th>similarweb_avg_visit</th>\n",
       "    </tr>\n",
       "  </thead>\n",
       "  <tbody>\n",
       "    <tr>\n",
       "      <th>count</th>\n",
       "      <td>12</td>\n",
       "      <td>12</td>\n",
       "      <td>12</td>\n",
       "      <td>12</td>\n",
       "      <td>12</td>\n",
       "      <td>12</td>\n",
       "      <td>12</td>\n",
       "      <td>12</td>\n",
       "      <td>12</td>\n",
       "      <td>12</td>\n",
       "      <td>...</td>\n",
       "      <td>12</td>\n",
       "      <td>12</td>\n",
       "      <td>12</td>\n",
       "      <td>12</td>\n",
       "      <td>12</td>\n",
       "      <td>12</td>\n",
       "      <td>12</td>\n",
       "      <td>12</td>\n",
       "      <td>12</td>\n",
       "      <td>12</td>\n",
       "    </tr>\n",
       "    <tr>\n",
       "      <th>unique</th>\n",
       "      <td>12</td>\n",
       "      <td>12</td>\n",
       "      <td>12</td>\n",
       "      <td>12</td>\n",
       "      <td>12</td>\n",
       "      <td>12</td>\n",
       "      <td>12</td>\n",
       "      <td>12</td>\n",
       "      <td>2</td>\n",
       "      <td>1</td>\n",
       "      <td>...</td>\n",
       "      <td>11</td>\n",
       "      <td>7</td>\n",
       "      <td>11</td>\n",
       "      <td>7</td>\n",
       "      <td>12</td>\n",
       "      <td>7</td>\n",
       "      <td>10</td>\n",
       "      <td>12</td>\n",
       "      <td>12</td>\n",
       "      <td>11</td>\n",
       "    </tr>\n",
       "    <tr>\n",
       "      <th>top</th>\n",
       "      <td>Clickteam Fusion</td>\n",
       "      <td>https://www.facebook.com/clickteam</td>\n",
       "      <td>11K</td>\n",
       "      <td>11K</td>\n",
       "      <td>http://twitter.com/clickteam</td>\n",
       "      <td>https://www.youtube.com/@ClickteamLLC</td>\n",
       "      <td>56.6K</td>\n",
       "      <td>372</td>\n",
       "      <td>x</td>\n",
       "      <td>x</td>\n",
       "      <td>...</td>\n",
       "      <td>x</td>\n",
       "      <td>4.5</td>\n",
       "      <td>x</td>\n",
       "      <td>x</td>\n",
       "      <td>https://www.capterra.com/p/250587/Clickteam-Fu...</td>\n",
       "      <td>x</td>\n",
       "      <td>x</td>\n",
       "      <td>https://www.similarweb.com/website/clickteam.c...</td>\n",
       "      <td>102.8K</td>\n",
       "      <td>00:04:43</td>\n",
       "    </tr>\n",
       "    <tr>\n",
       "      <th>freq</th>\n",
       "      <td>1</td>\n",
       "      <td>1</td>\n",
       "      <td>1</td>\n",
       "      <td>1</td>\n",
       "      <td>1</td>\n",
       "      <td>1</td>\n",
       "      <td>1</td>\n",
       "      <td>1</td>\n",
       "      <td>11</td>\n",
       "      <td>12</td>\n",
       "      <td>...</td>\n",
       "      <td>2</td>\n",
       "      <td>4</td>\n",
       "      <td>2</td>\n",
       "      <td>6</td>\n",
       "      <td>1</td>\n",
       "      <td>3</td>\n",
       "      <td>3</td>\n",
       "      <td>1</td>\n",
       "      <td>1</td>\n",
       "      <td>2</td>\n",
       "    </tr>\n",
       "  </tbody>\n",
       "</table>\n",
       "<p>4 rows × 28 columns</p>\n",
       "</div>"
      ],
      "text/plain": [
       "                    name                            facebook facebook_likes  \\\n",
       "count                 12                                  12             12   \n",
       "unique                12                                  12             12   \n",
       "top     Clickteam Fusion  https://www.facebook.com/clickteam            11K   \n",
       "freq                   1                                   1              1   \n",
       "\n",
       "       facebook_followers                       twitter  \\\n",
       "count                  12                            12   \n",
       "unique                 12                            12   \n",
       "top                   11K  http://twitter.com/clickteam   \n",
       "freq                    1                             1   \n",
       "\n",
       "                                      youtube youtube_subscribers  \\\n",
       "count                                      12                  12   \n",
       "unique                                     12                  12   \n",
       "top     https://www.youtube.com/@ClickteamLLC               56.6K   \n",
       "freq                                        1                   1   \n",
       "\n",
       "       youtube_videos tiktok snapchat  ...  g2 g2_stars g2_reviews  \\\n",
       "count              12     12       12  ...  12       12         12   \n",
       "unique             12      2        1  ...  11        7         11   \n",
       "top               372      x        x  ...   x      4.5          x   \n",
       "freq                1     11       12  ...   2        4          2   \n",
       "\n",
       "       producthunt                                           capterra  \\\n",
       "count           12                                                 12   \n",
       "unique           7                                                 12   \n",
       "top              x  https://www.capterra.com/p/250587/Clickteam-Fu...   \n",
       "freq             6                                                  1   \n",
       "\n",
       "       capterra_stars capterra_ratings_num  \\\n",
       "count              12                   12   \n",
       "unique              7                   10   \n",
       "top                 x                    x   \n",
       "freq                3                    3   \n",
       "\n",
       "                                               similarweb  \\\n",
       "count                                                  12   \n",
       "unique                                                 12   \n",
       "top     https://www.similarweb.com/website/clickteam.c...   \n",
       "freq                                                    1   \n",
       "\n",
       "       similarweb_total_visits similarweb_avg_visit  \n",
       "count                       12                   12  \n",
       "unique                      12                   11  \n",
       "top                     102.8K             00:04:43  \n",
       "freq                         1                    2  \n",
       "\n",
       "[4 rows x 28 columns]"
      ]
     },
     "execution_count": 7,
     "metadata": {},
     "output_type": "execute_result"
    }
   ],
   "source": [
    "df.describe(include=[object])"
   ]
  },
  {
   "cell_type": "code",
   "execution_count": 8,
   "id": "64f87d21-7f47-49fb-bd5a-4906ce3cb0df",
   "metadata": {
    "tags": []
   },
   "outputs": [],
   "source": [
    "for col in [col for col in df if df[col].isna().sum() > (0.2 * df.shape[0])]:\n",
    "    print(f\"{col} - Missing values: {(df[col].isna().sum() / df.shape[0]):.2f} %\")"
   ]
  },
  {
   "cell_type": "code",
   "execution_count": 9,
   "id": "c158cc01-d805-4d7d-a8a6-3e941cc7c12e",
   "metadata": {
    "tags": []
   },
   "outputs": [],
   "source": [
    "categorical_columns = []\n",
    "binary_columns = []"
   ]
  },
  {
   "cell_type": "markdown",
   "id": "82ef9ae6-da88-434d-837e-52897ee161ed",
   "metadata": {},
   "source": [
    "Separate the columns by type - numerical and categorical."
   ]
  },
  {
   "cell_type": "code",
   "execution_count": 10,
   "id": "1a0ae9d8-cc9b-4f5a-b128-5faba32b0ae6",
   "metadata": {
    "tags": []
   },
   "outputs": [
    {
     "name": "stdout",
     "output_type": "stream",
     "text": [
      "tiktok               | object |     2 | ['x' 'https://www.tiktok.com/@gdevelop']\n",
      "snapchat             | object |     1 | ['x']\n",
      "github               | object |     9 | ['x' 'https://github.com/Scirra' 'https://github.com/CRYTEK'\n",
      " 'https://github.com/GDevelopApp' 'https://github.com/godotengine'\n",
      " 'https://github.com/o3de' 'https://github.com/playcanvas'\n",
      " 'https://github.com/Unity-Technologies' 'https://github.com/EpicGames']\n",
      "github_followers     | object |     9 | ['x' '6' '233' '46' '3k' '223' '239' '6k' '18.7k']\n",
      "alternativeto_stars  | object |     7 | ['5' '4.9' 'x' '4.5' '4.8' '2' '3.8']\n",
      "alternativeto_ratings_num | object |     7 | ['1' '29' '2' 'x' '12' '33' '8']\n",
      "g2_stars             | object |     7 | ['x' '4' '3.7' '4.1' '4.4' '4.5' '4.6']\n",
      "producthunt          | object |     7 | ['x' 'https://www.producthunt.com/products/gdevelop'\n",
      " 'https://www.producthunt.com/products/godot#godot'\n",
      " 'https://www.producthunt.com/products/playcanvas'\n",
      " 'https://www.producthunt.com/products/stencyl'\n",
      " 'https://www.producthunt.com/products/unity-3d#unity-3d'\n",
      " 'https://www.producthunt.com/products/unreal-engine']\n",
      "capterra_stars       | object |     7 | ['x' '4.7' '4.8' '4.4' '4.1' '4.5' '4.6']\n"
     ]
    }
   ],
   "source": [
    "for column in df:\n",
    "    column_type = df[column].dtype\n",
    "    unique_values = df[column].unique()\n",
    "    count_unique_values = len(unique_values)\n",
    "\n",
    "    if count_unique_values < 10:\n",
    "        if count_unique_values == 2:\n",
    "            binary_columns.append(column)\n",
    "        else:\n",
    "            categorical_columns.append(column)\n",
    "            \n",
    "        print(f'{column:20} | {column_type} | {count_unique_values:5} | {unique_values}')"
   ]
  },
  {
   "cell_type": "code",
   "execution_count": 11,
   "id": "7e68c6c2-0466-4424-bdcd-e7048c4c1984",
   "metadata": {
    "tags": []
   },
   "outputs": [],
   "source": [
    "\n",
    "# remove categorical columns from numeric\n",
    "for column in categorical_columns:\n",
    "    if column in numeric_columns:\n",
    "        numeric_columns.remove(column)\n",
    "\n",
    "# remove binary columns from numeric\n",
    "for column in binary_columns:\n",
    "    if column in numeric_columns:\n",
    "        numeric_columns.remove(column)\n",
    "\n"
   ]
  },
  {
   "cell_type": "code",
   "execution_count": 12,
   "id": "c1dd78a4-7174-46ed-88fc-4c162a40e8ba",
   "metadata": {
    "tags": []
   },
   "outputs": [
    {
     "name": "stdout",
     "output_type": "stream",
     "text": [
      "snapchat\n",
      "github\n",
      "github_followers\n",
      "alternativeto_stars\n",
      "alternativeto_ratings_num\n",
      "g2_stars\n",
      "producthunt\n",
      "capterra_stars\n"
     ]
    }
   ],
   "source": [
    "# \n",
    "#try:\n",
    "\n",
    "#except ValueError:\n",
    "#    print(\"Item doesn't exist on the list\")\n",
    "for x in range(len(categorical_columns)):\n",
    "    print (categorical_columns[x],)"
   ]
  },
  {
   "cell_type": "code",
   "execution_count": 13,
   "id": "0c5f6d8b-95f4-44a0-ad2a-cb676c92e20f",
   "metadata": {
    "tags": []
   },
   "outputs": [],
   "source": [
    "#remove columns with a single unique value from categorical\n",
    "categorical_columns.remove('snapchat')\n",
    "categorical_columns.remove('github')\n",
    "categorical_columns.remove('producthunt')"
   ]
  },
  {
   "cell_type": "code",
   "execution_count": 14,
   "id": "537c2578-f039-4e9e-88d7-891dd1a36beb",
   "metadata": {
    "tags": []
   },
   "outputs": [
    {
     "name": "stdout",
     "output_type": "stream",
     "text": [
      "name - Unique values: 1.00 %\n",
      "facebook - Unique values: 1.00 %\n",
      "facebook_likes - Unique values: 1.00 %\n",
      "facebook_followers - Unique values: 1.00 %\n",
      "twitter - Unique values: 1.00 %\n",
      "youtube - Unique values: 1.00 %\n",
      "youtube_subscribers - Unique values: 1.00 %\n",
      "youtube_videos - Unique values: 1.00 %\n",
      "linkedin - Unique values: 1.00 %\n",
      "wikipedia - Unique values: 1.00 %\n",
      "wikipedia_languages_num - Unique values: 0.83 %\n",
      "site - Unique values: 1.00 %\n",
      "github - Unique values: 0.75 %\n",
      "github_followers - Unique values: 0.75 %\n",
      "alternativeto - Unique values: 1.00 %\n",
      "alternativeto_likes - Unique values: 0.92 %\n",
      "alternativeto_stars - Unique values: 0.58 %\n",
      "alternativeto_ratings_num - Unique values: 0.58 %\n",
      "g2 - Unique values: 0.92 %\n",
      "g2_stars - Unique values: 0.58 %\n",
      "g2_reviews - Unique values: 0.92 %\n",
      "producthunt - Unique values: 0.58 %\n",
      "capterra - Unique values: 1.00 %\n",
      "capterra_stars - Unique values: 0.58 %\n",
      "capterra_ratings_num - Unique values: 0.83 %\n",
      "similarweb - Unique values: 1.00 %\n",
      "similarweb_total_visits - Unique values: 1.00 %\n",
      "similarweb_bounce_rate - Unique values: 1.00 %\n",
      "similarweb_pages_visit - Unique values: 1.00 %\n",
      "similarweb_avg_visit - Unique values: 0.92 %\n"
     ]
    }
   ],
   "source": [
    "\n",
    "\n",
    "for col in [col for col in df if df[col].unique().shape[0] > (0.2 * df.shape[0])]:\n",
    "    print(f\"{col} - Unique values: {(df[col].unique().shape[0] / df.shape[0]):.2f} %\")\n",
    "\n"
   ]
  },
  {
   "cell_type": "code",
   "execution_count": 15,
   "id": "c4e62845-7877-4acf-a452-d8f256442a75",
   "metadata": {
    "tags": []
   },
   "outputs": [
    {
     "name": "stdout",
     "output_type": "stream",
     "text": [
      "wikipedia_languages_num        | Skw:       0.97 => 0.30\n",
      "alternativeto_likes            | Skw:       1.65 => 0.09\n",
      "similarweb_bounce_rate         | Skw:       0.61 => 0.37\n",
      "similarweb_bounce_rate         | Std:       5.39 => 0.12\n",
      "similarweb_pages_visit         | Std:       1.87 => 0.34\n"
     ]
    }
   ],
   "source": [
    "for col in numeric_columns:\n",
    "    skewness = df[col].skew()\n",
    "    std = df[col].std()\n",
    "\n",
    "    l_skewness = np.log1p(df[col]).skew()\n",
    "    l_std = np.log1p(df[col]).std()\n",
    "\n",
    "    if skewness > 0.5 and np.abs(l_skewness) <= 0.5:\n",
    "        print(f'{col:30} | Skw: {skewness:10.2f} => {l_skewness:.2f}')\n",
    "\n",
    "    if std > 1 and l_std <= 1:\n",
    "        print(f'{col:30} | Std: {std:10.2f} => {l_std:.2f}')"
   ]
  },
  {
   "cell_type": "markdown",
   "id": "38501986-58df-4b27-9748-a90643f88a8e",
   "metadata": {
    "tags": []
   },
   "source": [
    "Plots"
   ]
  },
  {
   "cell_type": "code",
   "execution_count": 16,
   "id": "56ce4166-9630-4f23-baf2-c0bd6632ac30",
   "metadata": {
    "tags": []
   },
   "outputs": [
    {
     "data": {
      "image/png": "[encoded data removed]",
      "text/plain": [
       "<Figure size 640x480 with 1 Axes>"
      ]
     },
     "metadata": {},
     "output_type": "display_data"
    }
   ],
   "source": [
    "sns.set_palette('rocket_r')\n",
    "df['github_followers'].value_counts().plot.pie(autopct='%1.1f%%')\n",
    "plt.show()"
   ]
  },
  {
   "cell_type": "code",
   "execution_count": 17,
   "id": "095b80ec-39df-4d42-9528-152b68050be5",
   "metadata": {
    "tags": []
   },
   "outputs": [
    {
     "data": {
      "image/png": "[encoded data removed]",
      "text/plain": [
       "<Figure size 640x480 with 1 Axes>"
      ]
     },
     "metadata": {},
     "output_type": "display_data"
    },
    {
     "data": {
      "image/png": "[encoded data removed]",
      "text/plain": [
       "<Figure size 640x480 with 1 Axes>"
      ]
     },
     "metadata": {},
     "output_type": "display_data"
    },
    {
     "data": {
      "image/png": "[encoded data removed]",
      "text/plain": [
       "<Figure size 640x480 with 1 Axes>"
      ]
     },
     "metadata": {},
     "output_type": "display_data"
    },
    {
     "data": {
      "image/png": "[encoded data removed]",
      "text/plain": [
       "<Figure size 640x480 with 1 Axes>"
      ]
     },
     "metadata": {},
     "output_type": "display_data"
    },
    {
     "data": {
      "image/png": "[encoded data removed]",
      "text/plain": [
       "<Figure size 640x480 with 1 Axes>"
      ]
     },
     "metadata": {},
     "output_type": "display_data"
    }
   ],
   "source": [
    "for column in categorical_columns:\n",
    "    sns.set_palette('flare')\n",
    "    p = sns.countplot(data=df, x=column)\n",
    "    p.bar_label(p.containers[0])\n",
    "    plt.show()"
   ]
  },
  {
   "cell_type": "code",
   "execution_count": 18,
   "id": "ba8109eb-2642-498f-9822-84fceec5087b",
   "metadata": {
    "tags": []
   },
   "outputs": [
    {
     "data": {
      "image/png": "[encoded data removed]",
      "text/plain": [
       "<Figure size 640x480 with 1 Axes>"
      ]
     },
     "metadata": {},
     "output_type": "display_data"
    },
    {
     "data": {
      "image/png": "[encoded data removed]",
      "text/plain": [
       "<Figure size 640x480 with 1 Axes>"
      ]
     },
     "metadata": {},
     "output_type": "display_data"
    },
    {
     "data": {
      "image/png": "[encoded data removed]",
      "text/plain": [
       "<Figure size 640x480 with 1 Axes>"
      ]
     },
     "metadata": {},
     "output_type": "display_data"
    },
    {
     "data": {
      "image/png": "[encoded data removed]",
      "text/plain": [
       "<Figure size 640x480 with 1 Axes>"
      ]
     },
     "metadata": {},
     "output_type": "display_data"
    },
    {
     "data": {
      "image/png": "[encoded data removed]",
      "text/plain": [
       "<Figure size 640x480 with 1 Axes>"
      ]
     },
     "metadata": {},
     "output_type": "display_data"
    }
   ],
   "source": [
    "for column in categorical_columns:\n",
    "    sns.set_palette('flare')\n",
    "    p = sns.countplot(data=df, x=column, hue='github_followers')\n",
    "    plt.show()"
   ]
  },
  {
   "cell_type": "code",
   "execution_count": 19,
   "id": "2fe86e03-60e7-4a42-986d-87b2dcb97bf7",
   "metadata": {
    "tags": []
   },
   "outputs": [
    {
     "data": {
      "image/png": "[encoded data removed]",
      "text/plain": [
       "<Figure size 640x480 with 1 Axes>"
      ]
     },
     "metadata": {},
     "output_type": "display_data"
    }
   ],
   "source": [
    "\n",
    "\n",
    "for column in binary_columns:\n",
    "    sns.set_palette('rocket_r')\n",
    "    p = sns.countplot(data=df, x=column)\n",
    "    p.bar_label(p.containers[0])\n",
    "    plt.show()\n",
    "\n"
   ]
  },
  {
   "cell_type": "code",
   "execution_count": 20,
   "id": "7ab70756-f7f7-4af4-9a7b-37307b9c2692",
   "metadata": {
    "tags": []
   },
   "outputs": [
    {
     "data": {
      "text/plain": [
       "name                          object\n",
       "facebook                      object\n",
       "facebook_likes                object\n",
       "facebook_followers            object\n",
       "twitter                       object\n",
       "youtube                       object\n",
       "youtube_subscribers           object\n",
       "youtube_videos                object\n",
       "tiktok                        object\n",
       "snapchat                      object\n",
       "linkedin                      object\n",
       "wikipedia                     object\n",
       "wikipedia_languages_num        int64\n",
       "site                          object\n",
       "github                        object\n",
       "github_followers              object\n",
       "alternativeto                 object\n",
       "alternativeto_likes            int64\n",
       "alternativeto_stars           object\n",
       "alternativeto_ratings_num     object\n",
       "g2                            object\n",
       "g2_stars                      object\n",
       "g2_reviews                    object\n",
       "producthunt                   object\n",
       "capterra                      object\n",
       "capterra_stars                object\n",
       "capterra_ratings_num          object\n",
       "similarweb                    object\n",
       "similarweb_total_visits       object\n",
       "similarweb_bounce_rate       float64\n",
       "similarweb_pages_visit       float64\n",
       "similarweb_avg_visit          object\n",
       "dtype: object"
      ]
     },
     "execution_count": 20,
     "metadata": {},
     "output_type": "execute_result"
    }
   ],
   "source": [
    "df.dtypes"
   ]
  },
  {
   "cell_type": "raw",
   "id": "2c7015d8-08dc-45c6-b373-8e4a55e84944",
   "metadata": {},
   "source": [
    "\n",
    "Model Training\n"
   ]
  },
  {
   "cell_type": "raw",
   "id": "68045325-dccd-4889-bb2b-9201282b0b0f",
   "metadata": {},
   "source": [
    "Preparing the data for algorithms"
   ]
  },
  {
   "cell_type": "code",
   "execution_count": 21,
   "id": "e1780237-e6ba-445e-89e8-8aa01e11e97b",
   "metadata": {
    "tags": []
   },
   "outputs": [
    {
     "data": {
      "text/plain": [
       "Index(['name', 'facebook', 'facebook_likes', 'facebook_followers', 'twitter',\n",
       "       'youtube', 'youtube_subscribers', 'youtube_videos', 'tiktok',\n",
       "       'snapchat', 'linkedin', 'wikipedia', 'wikipedia_languages_num', 'site',\n",
       "       'github', 'github_followers', 'alternativeto', 'alternativeto_likes',\n",
       "       'alternativeto_stars', 'alternativeto_ratings_num', 'g2', 'g2_stars',\n",
       "       'g2_reviews', 'producthunt', 'capterra', 'capterra_stars',\n",
       "       'capterra_ratings_num', 'similarweb', 'similarweb_total_visits',\n",
       "       'similarweb_bounce_rate', 'similarweb_pages_visit',\n",
       "       'similarweb_avg_visit'],\n",
       "      dtype='object')"
      ]
     },
     "execution_count": 21,
     "metadata": {},
     "output_type": "execute_result"
    }
   ],
   "source": [
    "df.columns"
   ]
  },
  {
   "cell_type": "code",
   "execution_count": 22,
   "id": "e2a4ebb3-cf0d-45a4-9961-93bf5692944a",
   "metadata": {
    "tags": []
   },
   "outputs": [],
   "source": [
    "# Анонимизиране \n",
    "df.drop(columns=['name', 'facebook', 'twitter', 'youtube'], inplace=True)"
   ]
  },
  {
   "cell_type": "code",
   "execution_count": 23,
   "id": "6693afcf-c90e-48bd-89f2-09e0732d6f50",
   "metadata": {
    "tags": []
   },
   "outputs": [],
   "source": [
    "# Премахване на неважна информация \n",
    "\n",
    "df.drop(columns=['tiktok',\n",
    "       'snapchat', 'linkedin', 'wikipedia', 'wikipedia_languages_num', 'site',\n",
    "       'github', 'alternativeto', 'g2', \n",
    "       'g2_reviews', 'producthunt', 'capterra','similarweb'], inplace=True)\n",
    "\n"
   ]
  },
  {
   "cell_type": "code",
   "execution_count": 24,
   "id": "f0eea9da-2106-4434-ac08-4e335bedd5cd",
   "metadata": {
    "tags": []
   },
   "outputs": [
    {
     "data": {
      "text/html": [
       "<div>\n",
       "<style scoped>\n",
       "    .dataframe tbody tr th:only-of-type {\n",
       "        vertical-align: middle;\n",
       "    }\n",
       "\n",
       "    .dataframe tbody tr th {\n",
       "        vertical-align: top;\n",
       "    }\n",
       "\n",
       "    .dataframe thead th {\n",
       "        text-align: right;\n",
       "    }\n",
       "</style>\n",
       "<table border=\"1\" class=\"dataframe\">\n",
       "  <thead>\n",
       "    <tr style=\"text-align: right;\">\n",
       "      <th></th>\n",
       "      <th>facebook_likes</th>\n",
       "      <th>facebook_followers</th>\n",
       "      <th>youtube_subscribers</th>\n",
       "      <th>youtube_videos</th>\n",
       "      <th>github_followers</th>\n",
       "      <th>alternativeto_likes</th>\n",
       "      <th>alternativeto_stars</th>\n",
       "      <th>alternativeto_ratings_num</th>\n",
       "      <th>g2_stars</th>\n",
       "      <th>capterra_stars</th>\n",
       "      <th>capterra_ratings_num</th>\n",
       "      <th>similarweb_total_visits</th>\n",
       "      <th>similarweb_bounce_rate</th>\n",
       "      <th>similarweb_pages_visit</th>\n",
       "      <th>similarweb_avg_visit</th>\n",
       "    </tr>\n",
       "  </thead>\n",
       "  <tbody>\n",
       "    <tr>\n",
       "      <th>0</th>\n",
       "      <td>11K</td>\n",
       "      <td>11K</td>\n",
       "      <td>56.6K</td>\n",
       "      <td>372</td>\n",
       "      <td>x</td>\n",
       "      <td>39</td>\n",
       "      <td>5</td>\n",
       "      <td>1</td>\n",
       "      <td>x</td>\n",
       "      <td>x</td>\n",
       "      <td>x</td>\n",
       "      <td>102.8K</td>\n",
       "      <td>46.70</td>\n",
       "      <td>3.24</td>\n",
       "      <td>00:02:05</td>\n",
       "    </tr>\n",
       "    <tr>\n",
       "      <th>1</th>\n",
       "      <td>23K</td>\n",
       "      <td>23K</td>\n",
       "      <td>15.5K</td>\n",
       "      <td>293</td>\n",
       "      <td>6</td>\n",
       "      <td>81</td>\n",
       "      <td>4.9</td>\n",
       "      <td>29</td>\n",
       "      <td>4</td>\n",
       "      <td>4.7</td>\n",
       "      <td>208</td>\n",
       "      <td>910.7K</td>\n",
       "      <td>43.18</td>\n",
       "      <td>6.43</td>\n",
       "      <td>00:11:41</td>\n",
       "    </tr>\n",
       "    <tr>\n",
       "      <th>2</th>\n",
       "      <td>43K</td>\n",
       "      <td>43K</td>\n",
       "      <td>50.1K</td>\n",
       "      <td>355</td>\n",
       "      <td>233</td>\n",
       "      <td>58</td>\n",
       "      <td>5</td>\n",
       "      <td>1</td>\n",
       "      <td>3.7</td>\n",
       "      <td>4.8</td>\n",
       "      <td>6</td>\n",
       "      <td>115.2K</td>\n",
       "      <td>54.23</td>\n",
       "      <td>2.60</td>\n",
       "      <td>00:01:45</td>\n",
       "    </tr>\n",
       "    <tr>\n",
       "      <th>3</th>\n",
       "      <td>255K</td>\n",
       "      <td>256K</td>\n",
       "      <td>62.6K</td>\n",
       "      <td>155</td>\n",
       "      <td>x</td>\n",
       "      <td>39</td>\n",
       "      <td>5</td>\n",
       "      <td>2</td>\n",
       "      <td>4.1</td>\n",
       "      <td>4.4</td>\n",
       "      <td>91</td>\n",
       "      <td>1.3M</td>\n",
       "      <td>45.51</td>\n",
       "      <td>3.66</td>\n",
       "      <td>00:04:43</td>\n",
       "    </tr>\n",
       "    <tr>\n",
       "      <th>4</th>\n",
       "      <td>7.1K</td>\n",
       "      <td>7K</td>\n",
       "      <td>8.69K</td>\n",
       "      <td>70</td>\n",
       "      <td>x</td>\n",
       "      <td>13</td>\n",
       "      <td>x</td>\n",
       "      <td>x</td>\n",
       "      <td>4.4</td>\n",
       "      <td>4.1</td>\n",
       "      <td>23</td>\n",
       "      <td>111.7K</td>\n",
       "      <td>52.96</td>\n",
       "      <td>6.21</td>\n",
       "      <td>00:06:19</td>\n",
       "    </tr>\n",
       "    <tr>\n",
       "      <th>5</th>\n",
       "      <td>3.2K</td>\n",
       "      <td>4.4K</td>\n",
       "      <td>21.8K</td>\n",
       "      <td>118</td>\n",
       "      <td>46</td>\n",
       "      <td>170</td>\n",
       "      <td>4.5</td>\n",
       "      <td>12</td>\n",
       "      <td>4.5</td>\n",
       "      <td>4.8</td>\n",
       "      <td>8</td>\n",
       "      <td>507.7K</td>\n",
       "      <td>38.53</td>\n",
       "      <td>6.18</td>\n",
       "      <td>00:07:08</td>\n",
       "    </tr>\n",
       "    <tr>\n",
       "      <th>6</th>\n",
       "      <td>7.5K</td>\n",
       "      <td>8.6K</td>\n",
       "      <td>54.5K</td>\n",
       "      <td>88</td>\n",
       "      <td>3k</td>\n",
       "      <td>449</td>\n",
       "      <td>4.8</td>\n",
       "      <td>33</td>\n",
       "      <td>4.5</td>\n",
       "      <td>4.5</td>\n",
       "      <td>12</td>\n",
       "      <td>1.8M</td>\n",
       "      <td>43.32</td>\n",
       "      <td>3.85</td>\n",
       "      <td>00:05:39</td>\n",
       "    </tr>\n",
       "    <tr>\n",
       "      <th>7</th>\n",
       "      <td>79</td>\n",
       "      <td>92</td>\n",
       "      <td>3.84K</td>\n",
       "      <td>154</td>\n",
       "      <td>223</td>\n",
       "      <td>18</td>\n",
       "      <td>2</td>\n",
       "      <td>1</td>\n",
       "      <td>x</td>\n",
       "      <td>x</td>\n",
       "      <td>x</td>\n",
       "      <td>52.4K</td>\n",
       "      <td>45.90</td>\n",
       "      <td>4.11</td>\n",
       "      <td>00:04:50</td>\n",
       "    </tr>\n",
       "    <tr>\n",
       "      <th>8</th>\n",
       "      <td>1.4K</td>\n",
       "      <td>1.5K</td>\n",
       "      <td>2.98K</td>\n",
       "      <td>52</td>\n",
       "      <td>239</td>\n",
       "      <td>10</td>\n",
       "      <td>x</td>\n",
       "      <td>x</td>\n",
       "      <td>4.6</td>\n",
       "      <td>x</td>\n",
       "      <td>x</td>\n",
       "      <td>315.3K</td>\n",
       "      <td>36.48</td>\n",
       "      <td>7.24</td>\n",
       "      <td>00:11:55</td>\n",
       "    </tr>\n",
       "    <tr>\n",
       "      <th>9</th>\n",
       "      <td>8.1K</td>\n",
       "      <td>8.1K</td>\n",
       "      <td>x</td>\n",
       "      <td>x</td>\n",
       "      <td>x</td>\n",
       "      <td>70</td>\n",
       "      <td>x</td>\n",
       "      <td>x</td>\n",
       "      <td>4.4</td>\n",
       "      <td>4.5</td>\n",
       "      <td>11</td>\n",
       "      <td>55.8K</td>\n",
       "      <td>44.16</td>\n",
       "      <td>1.98</td>\n",
       "      <td>00:04:43</td>\n",
       "    </tr>\n",
       "    <tr>\n",
       "      <th>10</th>\n",
       "      <td>830789</td>\n",
       "      <td>853881</td>\n",
       "      <td>1.16M</td>\n",
       "      <td>2.6K</td>\n",
       "      <td>6k</td>\n",
       "      <td>336</td>\n",
       "      <td>3.8</td>\n",
       "      <td>12</td>\n",
       "      <td>4.5</td>\n",
       "      <td>4.6</td>\n",
       "      <td>757</td>\n",
       "      <td>13.3M</td>\n",
       "      <td>40.18</td>\n",
       "      <td>7.60</td>\n",
       "      <td>00:06:38</td>\n",
       "    </tr>\n",
       "    <tr>\n",
       "      <th>11</th>\n",
       "      <td>498K</td>\n",
       "      <td>x</td>\n",
       "      <td>979K</td>\n",
       "      <td>2.3K</td>\n",
       "      <td>18.7k</td>\n",
       "      <td>154</td>\n",
       "      <td>4.5</td>\n",
       "      <td>8</td>\n",
       "      <td>4.5</td>\n",
       "      <td>4.8</td>\n",
       "      <td>354</td>\n",
       "      <td>8.9M</td>\n",
       "      <td>39.54</td>\n",
       "      <td>5.03</td>\n",
       "      <td>00:05:21</td>\n",
       "    </tr>\n",
       "  </tbody>\n",
       "</table>\n",
       "</div>"
      ],
      "text/plain": [
       "   facebook_likes facebook_followers youtube_subscribers youtube_videos  \\\n",
       "0             11K                11K               56.6K            372   \n",
       "1             23K                23K               15.5K            293   \n",
       "2             43K                43K               50.1K            355   \n",
       "3            255K               256K               62.6K            155   \n",
       "4            7.1K                 7K               8.69K             70   \n",
       "5            3.2K               4.4K               21.8K            118   \n",
       "6            7.5K               8.6K               54.5K             88   \n",
       "7              79                 92               3.84K            154   \n",
       "8            1.4K               1.5K               2.98K             52   \n",
       "9            8.1K               8.1K                   x              x   \n",
       "10         830789             853881               1.16M           2.6K   \n",
       "11           498K                  x                979K           2.3K   \n",
       "\n",
       "   github_followers  alternativeto_likes alternativeto_stars  \\\n",
       "0                 x                   39                   5   \n",
       "1                 6                   81                 4.9   \n",
       "2               233                   58                   5   \n",
       "3                 x                   39                   5   \n",
       "4                 x                   13                   x   \n",
       "5                46                  170                 4.5   \n",
       "6                3k                  449                 4.8   \n",
       "7               223                   18                   2   \n",
       "8               239                   10                   x   \n",
       "9                 x                   70                   x   \n",
       "10               6k                  336                 3.8   \n",
       "11            18.7k                  154                 4.5   \n",
       "\n",
       "   alternativeto_ratings_num g2_stars capterra_stars capterra_ratings_num  \\\n",
       "0                          1        x              x                    x   \n",
       "1                         29        4            4.7                  208   \n",
       "2                          1      3.7            4.8                    6   \n",
       "3                          2      4.1            4.4                   91   \n",
       "4                          x      4.4            4.1                   23   \n",
       "5                         12      4.5            4.8                    8   \n",
       "6                         33      4.5            4.5                   12   \n",
       "7                          1        x              x                    x   \n",
       "8                          x      4.6              x                    x   \n",
       "9                          x      4.4            4.5                   11   \n",
       "10                        12      4.5            4.6                  757   \n",
       "11                         8      4.5            4.8                  354   \n",
       "\n",
       "   similarweb_total_visits  similarweb_bounce_rate  similarweb_pages_visit  \\\n",
       "0                   102.8K                   46.70                    3.24   \n",
       "1                   910.7K                   43.18                    6.43   \n",
       "2                   115.2K                   54.23                    2.60   \n",
       "3                     1.3M                   45.51                    3.66   \n",
       "4                   111.7K                   52.96                    6.21   \n",
       "5                   507.7K                   38.53                    6.18   \n",
       "6                     1.8M                   43.32                    3.85   \n",
       "7                    52.4K                   45.90                    4.11   \n",
       "8                   315.3K                   36.48                    7.24   \n",
       "9                    55.8K                   44.16                    1.98   \n",
       "10                   13.3M                   40.18                    7.60   \n",
       "11                    8.9M                   39.54                    5.03   \n",
       "\n",
       "   similarweb_avg_visit  \n",
       "0              00:02:05  \n",
       "1              00:11:41  \n",
       "2              00:01:45  \n",
       "3              00:04:43  \n",
       "4              00:06:19  \n",
       "5              00:07:08  \n",
       "6              00:05:39  \n",
       "7              00:04:50  \n",
       "8              00:11:55  \n",
       "9              00:04:43  \n",
       "10             00:06:38  \n",
       "11             00:05:21  "
      ]
     },
     "execution_count": 24,
     "metadata": {},
     "output_type": "execute_result"
    }
   ],
   "source": [
    "df"
   ]
  },
  {
   "cell_type": "code",
   "execution_count": 25,
   "id": "0858cc24-79ba-4c52-9048-4283f5cfcaf6",
   "metadata": {
    "tags": []
   },
   "outputs": [
    {
     "data": {
      "text/plain": [
       "facebook_likes                object\n",
       "facebook_followers            object\n",
       "youtube_subscribers           object\n",
       "youtube_videos                object\n",
       "github_followers              object\n",
       "alternativeto_likes            int64\n",
       "alternativeto_stars           object\n",
       "alternativeto_ratings_num     object\n",
       "g2_stars                      object\n",
       "capterra_stars                object\n",
       "capterra_ratings_num          object\n",
       "similarweb_total_visits       object\n",
       "similarweb_bounce_rate       float64\n",
       "similarweb_pages_visit       float64\n",
       "similarweb_avg_visit          object\n",
       "dtype: object"
      ]
     },
     "execution_count": 25,
     "metadata": {},
     "output_type": "execute_result"
    }
   ],
   "source": [
    "df.dtypes"
   ]
  },
  {
   "cell_type": "code",
   "execution_count": 36,
   "id": "a59b5f28-5c11-4db4-b69c-0f8217d3c83a",
   "metadata": {
    "tags": []
   },
   "outputs": [],
   "source": [
    "for col in ('facebook_likes','facebook_followers','youtube_subscribers','youtube_videos','github_followers','alternativeto_likes' ,'alternativeto_stars',\n",
    "            'alternativeto_ratings_num','g2_stars','capterra_stars','capterra_ratings_num','similarweb_total_visits','similarweb_bounce_rate', 'similarweb_avg_visit'): \n",
    "    df[col] = pd.to_numeric(df[col], errors='coerce').fillna(value=0)"
   ]
  },
  {
   "cell_type": "code",
   "execution_count": 37,
   "id": "a865bb1a-0eb0-48f7-a429-88d7c7a2b53e",
   "metadata": {
    "tags": []
   },
   "outputs": [
    {
     "data": {
      "text/plain": [
       "facebook_likes               float64\n",
       "facebook_followers           float64\n",
       "youtube_subscribers          float64\n",
       "youtube_videos               float64\n",
       "github_followers             float64\n",
       "alternativeto_likes            int64\n",
       "alternativeto_stars          float64\n",
       "alternativeto_ratings_num    float64\n",
       "g2_stars                     float64\n",
       "capterra_stars               float64\n",
       "capterra_ratings_num         float64\n",
       "similarweb_total_visits      float64\n",
       "similarweb_bounce_rate       float64\n",
       "similarweb_pages_visit       float64\n",
       "similarweb_avg_visit         float64\n",
       "dtype: object"
      ]
     },
     "execution_count": 37,
     "metadata": {},
     "output_type": "execute_result"
    }
   ],
   "source": [
    "df.dtypes"
   ]
  },
  {
   "cell_type": "code",
   "execution_count": 38,
   "id": "70e8a9d3-9d06-4bc8-a427-c968f13f644c",
   "metadata": {
    "tags": []
   },
   "outputs": [
    {
     "data": {
      "text/html": [
       "<div>\n",
       "<style scoped>\n",
       "    .dataframe tbody tr th:only-of-type {\n",
       "        vertical-align: middle;\n",
       "    }\n",
       "\n",
       "    .dataframe tbody tr th {\n",
       "        vertical-align: top;\n",
       "    }\n",
       "\n",
       "    .dataframe thead th {\n",
       "        text-align: right;\n",
       "    }\n",
       "</style>\n",
       "<table border=\"1\" class=\"dataframe\">\n",
       "  <thead>\n",
       "    <tr style=\"text-align: right;\">\n",
       "      <th></th>\n",
       "      <th>facebook_likes</th>\n",
       "      <th>facebook_followers</th>\n",
       "      <th>youtube_subscribers</th>\n",
       "      <th>youtube_videos</th>\n",
       "      <th>github_followers</th>\n",
       "      <th>alternativeto_likes</th>\n",
       "      <th>alternativeto_stars</th>\n",
       "      <th>alternativeto_ratings_num</th>\n",
       "      <th>g2_stars</th>\n",
       "      <th>capterra_stars</th>\n",
       "      <th>capterra_ratings_num</th>\n",
       "      <th>similarweb_total_visits</th>\n",
       "      <th>similarweb_bounce_rate</th>\n",
       "      <th>similarweb_pages_visit</th>\n",
       "      <th>similarweb_avg_visit</th>\n",
       "    </tr>\n",
       "  </thead>\n",
       "  <tbody>\n",
       "    <tr>\n",
       "      <th>count</th>\n",
       "      <td>12.000000</td>\n",
       "      <td>12.000000</td>\n",
       "      <td>12.0</td>\n",
       "      <td>12.000000</td>\n",
       "      <td>12.000000</td>\n",
       "      <td>12.000000</td>\n",
       "      <td>12.000000</td>\n",
       "      <td>12.000000</td>\n",
       "      <td>12.000000</td>\n",
       "      <td>12.000000</td>\n",
       "      <td>12.000000</td>\n",
       "      <td>12.0</td>\n",
       "      <td>12.000000</td>\n",
       "      <td>12.000000</td>\n",
       "      <td>12.0</td>\n",
       "    </tr>\n",
       "    <tr>\n",
       "      <th>mean</th>\n",
       "      <td>69239.000000</td>\n",
       "      <td>71164.416667</td>\n",
       "      <td>0.0</td>\n",
       "      <td>138.083333</td>\n",
       "      <td>62.250000</td>\n",
       "      <td>119.750000</td>\n",
       "      <td>3.291667</td>\n",
       "      <td>8.250000</td>\n",
       "      <td>3.600000</td>\n",
       "      <td>3.433333</td>\n",
       "      <td>122.500000</td>\n",
       "      <td>0.0</td>\n",
       "      <td>44.224167</td>\n",
       "      <td>4.844167</td>\n",
       "      <td>0.0</td>\n",
       "    </tr>\n",
       "    <tr>\n",
       "      <th>std</th>\n",
       "      <td>239826.054258</td>\n",
       "      <td>246491.799648</td>\n",
       "      <td>0.0</td>\n",
       "      <td>134.322176</td>\n",
       "      <td>103.040261</td>\n",
       "      <td>139.313985</td>\n",
       "      <td>2.152571</td>\n",
       "      <td>11.568963</td>\n",
       "      <td>1.701871</td>\n",
       "      <td>2.079918</td>\n",
       "      <td>227.781594</td>\n",
       "      <td>0.0</td>\n",
       "      <td>5.390457</td>\n",
       "      <td>1.865395</td>\n",
       "      <td>0.0</td>\n",
       "    </tr>\n",
       "    <tr>\n",
       "      <th>min</th>\n",
       "      <td>0.000000</td>\n",
       "      <td>0.000000</td>\n",
       "      <td>0.0</td>\n",
       "      <td>0.000000</td>\n",
       "      <td>0.000000</td>\n",
       "      <td>10.000000</td>\n",
       "      <td>0.000000</td>\n",
       "      <td>0.000000</td>\n",
       "      <td>0.000000</td>\n",
       "      <td>0.000000</td>\n",
       "      <td>0.000000</td>\n",
       "      <td>0.0</td>\n",
       "      <td>36.480000</td>\n",
       "      <td>1.980000</td>\n",
       "      <td>0.0</td>\n",
       "    </tr>\n",
       "    <tr>\n",
       "      <th>25%</th>\n",
       "      <td>0.000000</td>\n",
       "      <td>0.000000</td>\n",
       "      <td>0.0</td>\n",
       "      <td>39.000000</td>\n",
       "      <td>0.000000</td>\n",
       "      <td>33.750000</td>\n",
       "      <td>1.500000</td>\n",
       "      <td>0.750000</td>\n",
       "      <td>3.925000</td>\n",
       "      <td>3.075000</td>\n",
       "      <td>4.500000</td>\n",
       "      <td>0.0</td>\n",
       "      <td>40.020000</td>\n",
       "      <td>3.555000</td>\n",
       "      <td>0.0</td>\n",
       "    </tr>\n",
       "    <tr>\n",
       "      <th>50%</th>\n",
       "      <td>0.000000</td>\n",
       "      <td>0.000000</td>\n",
       "      <td>0.0</td>\n",
       "      <td>103.000000</td>\n",
       "      <td>0.000000</td>\n",
       "      <td>64.000000</td>\n",
       "      <td>4.500000</td>\n",
       "      <td>1.500000</td>\n",
       "      <td>4.400000</td>\n",
       "      <td>4.500000</td>\n",
       "      <td>11.500000</td>\n",
       "      <td>0.0</td>\n",
       "      <td>43.740000</td>\n",
       "      <td>4.570000</td>\n",
       "      <td>0.0</td>\n",
       "    </tr>\n",
       "    <tr>\n",
       "      <th>75%</th>\n",
       "      <td>0.000000</td>\n",
       "      <td>0.000000</td>\n",
       "      <td>0.0</td>\n",
       "      <td>189.500000</td>\n",
       "      <td>90.250000</td>\n",
       "      <td>158.000000</td>\n",
       "      <td>4.925000</td>\n",
       "      <td>12.000000</td>\n",
       "      <td>4.500000</td>\n",
       "      <td>4.725000</td>\n",
       "      <td>120.250000</td>\n",
       "      <td>0.0</td>\n",
       "      <td>46.100000</td>\n",
       "      <td>6.265000</td>\n",
       "      <td>0.0</td>\n",
       "    </tr>\n",
       "    <tr>\n",
       "      <th>max</th>\n",
       "      <td>830789.000000</td>\n",
       "      <td>853881.000000</td>\n",
       "      <td>0.0</td>\n",
       "      <td>372.000000</td>\n",
       "      <td>239.000000</td>\n",
       "      <td>449.000000</td>\n",
       "      <td>5.000000</td>\n",
       "      <td>33.000000</td>\n",
       "      <td>4.600000</td>\n",
       "      <td>4.800000</td>\n",
       "      <td>757.000000</td>\n",
       "      <td>0.0</td>\n",
       "      <td>54.230000</td>\n",
       "      <td>7.600000</td>\n",
       "      <td>0.0</td>\n",
       "    </tr>\n",
       "  </tbody>\n",
       "</table>\n",
       "</div>"
      ],
      "text/plain": [
       "       facebook_likes  facebook_followers  youtube_subscribers  \\\n",
       "count       12.000000           12.000000                 12.0   \n",
       "mean     69239.000000        71164.416667                  0.0   \n",
       "std     239826.054258       246491.799648                  0.0   \n",
       "min          0.000000            0.000000                  0.0   \n",
       "25%          0.000000            0.000000                  0.0   \n",
       "50%          0.000000            0.000000                  0.0   \n",
       "75%          0.000000            0.000000                  0.0   \n",
       "max     830789.000000       853881.000000                  0.0   \n",
       "\n",
       "       youtube_videos  github_followers  alternativeto_likes  \\\n",
       "count       12.000000         12.000000            12.000000   \n",
       "mean       138.083333         62.250000           119.750000   \n",
       "std        134.322176        103.040261           139.313985   \n",
       "min          0.000000          0.000000            10.000000   \n",
       "25%         39.000000          0.000000            33.750000   \n",
       "50%        103.000000          0.000000            64.000000   \n",
       "75%        189.500000         90.250000           158.000000   \n",
       "max        372.000000        239.000000           449.000000   \n",
       "\n",
       "       alternativeto_stars  alternativeto_ratings_num   g2_stars  \\\n",
       "count            12.000000                  12.000000  12.000000   \n",
       "mean              3.291667                   8.250000   3.600000   \n",
       "std               2.152571                  11.568963   1.701871   \n",
       "min               0.000000                   0.000000   0.000000   \n",
       "25%               1.500000                   0.750000   3.925000   \n",
       "50%               4.500000                   1.500000   4.400000   \n",
       "75%               4.925000                  12.000000   4.500000   \n",
       "max               5.000000                  33.000000   4.600000   \n",
       "\n",
       "       capterra_stars  capterra_ratings_num  similarweb_total_visits  \\\n",
       "count       12.000000             12.000000                     12.0   \n",
       "mean         3.433333            122.500000                      0.0   \n",
       "std          2.079918            227.781594                      0.0   \n",
       "min          0.000000              0.000000                      0.0   \n",
       "25%          3.075000              4.500000                      0.0   \n",
       "50%          4.500000             11.500000                      0.0   \n",
       "75%          4.725000            120.250000                      0.0   \n",
       "max          4.800000            757.000000                      0.0   \n",
       "\n",
       "       similarweb_bounce_rate  similarweb_pages_visit  similarweb_avg_visit  \n",
       "count               12.000000               12.000000                  12.0  \n",
       "mean                44.224167                4.844167                   0.0  \n",
       "std                  5.390457                1.865395                   0.0  \n",
       "min                 36.480000                1.980000                   0.0  \n",
       "25%                 40.020000                3.555000                   0.0  \n",
       "50%                 43.740000                4.570000                   0.0  \n",
       "75%                 46.100000                6.265000                   0.0  \n",
       "max                 54.230000                7.600000                   0.0  "
      ]
     },
     "execution_count": 38,
     "metadata": {},
     "output_type": "execute_result"
    }
   ],
   "source": [
    "df.describe()"
   ]
  },
  {
   "cell_type": "code",
   "execution_count": 39,
   "id": "e70bb538-b01c-4196-8569-5c6111727459",
   "metadata": {
    "tags": []
   },
   "outputs": [
    {
     "data": {
      "image/png": "[encoded data removed]",
      "text/plain": [
       "<Figure size 640x480 with 1 Axes>"
      ]
     },
     "metadata": {},
     "output_type": "display_data"
    }
   ],
   "source": [
    "sns.histplot(df[\"facebook_likes\"], bins=20);"
   ]
  },
  {
   "cell_type": "code",
   "execution_count": 40,
   "id": "12631cbc-4678-4e8c-ac77-b4223159553a",
   "metadata": {
    "tags": []
   },
   "outputs": [
    {
     "data": {
      "image/png": "[encoded data removed]",
      "text/plain": [
       "<Figure size 640x480 with 1 Axes>"
      ]
     },
     "metadata": {},
     "output_type": "display_data"
    }
   ],
   "source": [
    "sns.histplot(df[\"github_followers\"], bins=20);"
   ]
  },
  {
   "cell_type": "code",
   "execution_count": 42,
   "id": "2794d064-cefd-4673-9d19-a90ac3094aeb",
   "metadata": {
    "tags": []
   },
   "outputs": [
    {
     "data": {
      "image/png": "[encoded data removed]",
      "text/plain": [
       "<Figure size 640x480 with 1 Axes>"
      ]
     },
     "metadata": {},
     "output_type": "display_data"
    }
   ],
   "source": [
    "sns.boxenplot(data=df[[\"youtube_videos\", \"youtube_subscribers\"]], scale='linear');"
   ]
  },
  {
   "cell_type": "code",
   "execution_count": 45,
   "id": "2b8e12b3-0f88-4496-9bb4-ff378bb55868",
   "metadata": {
    "tags": []
   },
   "outputs": [
    {
     "data": {
      "image/png": "[encoded data removed]",
      "text/plain": [
       "<Figure size 640x480 with 1 Axes>"
      ]
     },
     "metadata": {},
     "output_type": "display_data"
    }
   ],
   "source": [
    "sns.regplot(x=df[\"youtube_videos\"], y=df[\"youtube_subscribers\"]);"
   ]
  },
  {
   "cell_type": "code",
   "execution_count": 99,
   "id": "14c45a40-70c6-47a7-8928-d855d3cfc38b",
   "metadata": {
    "tags": []
   },
   "outputs": [],
   "source": [
    "def preprocess_inputs(df, scale=False):\n",
    "    df = df.copy()\n",
    "\n",
    "    # log some numerical columns\n",
    "    log_columns = ['facebook_likes','facebook_followers','youtube_subscribers','youtube_videos','github_followers',\n",
    "                   'similarweb_total_visits','similarweb_bounce_rate']\n",
    "    for col in log_columns:\n",
    "        df[col] = np.log1p(df[col])\n",
    "\n",
    "    # one hot encode columns\n",
    "    one_hot_columns = ['alternativeto_likes' ,'alternativeto_stars',\n",
    "            'alternativeto_ratings_num','g2_stars','capterra_stars','capterra_ratings_num']\n",
    "    dummies = pd.get_dummies(df[one_hot_columns])\n",
    "    df = df.drop(one_hot_columns, axis=1)\n",
    "\n",
    "    result = pd.concat([df, dummies], axis=1)\n",
    "\n",
    "    X = result.drop(['alternativeto_likes'], axis=1)\n",
    "    y = result['alternativeto_likes']\n",
    "\n",
    "    X_train, X_test, y_train, y_test = train_test_split(X, y, test_size=0.3, random_state=13,  shuffle=True)\n",
    "\n",
    "    if scale:\n",
    "        scaler = StandardScaler()\n",
    "        scaler.fit(X_train)\n",
    "        X_train = pd.DataFrame(scaler.transform(X_train), index=X_train.index, columns=X_train.columns)\n",
    "        X_test = pd.DataFrame(scaler.transform(X_test), index=X_test.index, columns=X_test.columns)\n",
    "\n",
    "    return X_train, X_test, y_train, y_test"
   ]
  },
  {
   "cell_type": "code",
   "execution_count": 100,
   "id": "4eb3f5a2-9083-4428-98df-4b641603539c",
   "metadata": {
    "tags": []
   },
   "outputs": [],
   "source": [
    "X_train, X_test, y_train, y_test = preprocess_inputs(df, scale=True)"
   ]
  },
  {
   "cell_type": "raw",
   "id": "2cdfb319-c733-47cf-89ec-75f03b564085",
   "metadata": {},
   "source": [
    "Logistic Regression"
   ]
  },
  {
   "cell_type": "code",
   "execution_count": 101,
   "id": "23efadf0-8329-4be1-9e5c-ba1f4f484ccd",
   "metadata": {
    "tags": []
   },
   "outputs": [
    {
     "name": "stdout",
     "output_type": "stream",
     "text": [
      "Train score: 1.0\n",
      "Test score:  0.0\n"
     ]
    }
   ],
   "source": [
    "model = LogisticRegression()\n",
    "lab = preprocessing.LabelEncoder()\n",
    "y_transformed = lab.fit_transform(y_train)\n",
    "y_testone=lab.fit_transform(y_test)\n",
    "model.fit(X_train, y_transformed)\n",
    "\n",
    "\n",
    "print(\"Train score:\", model.score(X_train, y_transformed))\n",
    "print(\"Test score: \", model.score(X_test, y_testone))\n"
   ]
  },
  {
   "cell_type": "code",
   "execution_count": 102,
   "id": "257238bd-2b5a-4790-9194-46ec6fd804a3",
   "metadata": {
    "tags": []
   },
   "outputs": [
    {
     "data": {
      "text/plain": [
       "<Axes: >"
      ]
     },
     "execution_count": 102,
     "metadata": {},
     "output_type": "execute_result"
    },
    {
     "data": {
      "image/png": "[encoded data removed]",
      "text/plain": [
       "<Figure size 1200x800 with 1 Axes>"
      ]
     },
     "metadata": {},
     "output_type": "display_data"
    }
   ],
   "source": [
    "plt.figure(figsize=(12,8))\n",
    "sns.barplot(x=model.coef_[0], y=X_train.columns, orient='horizontal')"
   ]
  },
  {
   "cell_type": "code",
   "execution_count": 103,
   "id": "15a78df2-0099-4cf1-b9ef-b782104143b4",
   "metadata": {
    "tags": []
   },
   "outputs": [
    {
     "ename": "ValueError",
     "evalue": "Number of classes, 7, does not match size of target_names, 2. Try specifying the labels parameter",
     "output_type": "error",
     "traceback": [
      "\u001b[0;31m---------------------------------------------------------------------------\u001b[0m",
      "\u001b[0;31mValueError\u001b[0m                                Traceback (most recent call last)",
      "Cell \u001b[0;32mIn[103], line 3\u001b[0m\n\u001b[1;32m      1\u001b[0m y_pred \u001b[38;5;241m=\u001b[39m model\u001b[38;5;241m.\u001b[39mpredict(X_test)\n\u001b[1;32m      2\u001b[0m target_names \u001b[38;5;241m=\u001b[39m [\u001b[38;5;124m'\u001b[39m\u001b[38;5;124m0\u001b[39m\u001b[38;5;124m'\u001b[39m, \u001b[38;5;124m'\u001b[39m\u001b[38;5;124m1\u001b[39m\u001b[38;5;124m'\u001b[39m]\n\u001b[0;32m----> 3\u001b[0m \u001b[38;5;28mprint\u001b[39m(classification_report(y_testone, y_pred, target_names\u001b[38;5;241m=\u001b[39mtarget_names))\n",
      "File \u001b[0;32m~/anaconda3/lib/python3.11/site-packages/sklearn/utils/_param_validation.py:211\u001b[0m, in \u001b[0;36mvalidate_params.<locals>.decorator.<locals>.wrapper\u001b[0;34m(*args, **kwargs)\u001b[0m\n\u001b[1;32m    205\u001b[0m \u001b[38;5;28;01mtry\u001b[39;00m:\n\u001b[1;32m    206\u001b[0m     \u001b[38;5;28;01mwith\u001b[39;00m config_context(\n\u001b[1;32m    207\u001b[0m         skip_parameter_validation\u001b[38;5;241m=\u001b[39m(\n\u001b[1;32m    208\u001b[0m             prefer_skip_nested_validation \u001b[38;5;129;01mor\u001b[39;00m global_skip_validation\n\u001b[1;32m    209\u001b[0m         )\n\u001b[1;32m    210\u001b[0m     ):\n\u001b[0;32m--> 211\u001b[0m         \u001b[38;5;28;01mreturn\u001b[39;00m func(\u001b[38;5;241m*\u001b[39margs, \u001b[38;5;241m*\u001b[39m\u001b[38;5;241m*\u001b[39mkwargs)\n\u001b[1;32m    212\u001b[0m \u001b[38;5;28;01mexcept\u001b[39;00m InvalidParameterError \u001b[38;5;28;01mas\u001b[39;00m e:\n\u001b[1;32m    213\u001b[0m     \u001b[38;5;66;03m# When the function is just a wrapper around an estimator, we allow\u001b[39;00m\n\u001b[1;32m    214\u001b[0m     \u001b[38;5;66;03m# the function to delegate validation to the estimator, but we replace\u001b[39;00m\n\u001b[1;32m    215\u001b[0m     \u001b[38;5;66;03m# the name of the estimator by the name of the function in the error\u001b[39;00m\n\u001b[1;32m    216\u001b[0m     \u001b[38;5;66;03m# message to avoid confusion.\u001b[39;00m\n\u001b[1;32m    217\u001b[0m     msg \u001b[38;5;241m=\u001b[39m re\u001b[38;5;241m.\u001b[39msub(\n\u001b[1;32m    218\u001b[0m         \u001b[38;5;124mr\u001b[39m\u001b[38;5;124m\"\u001b[39m\u001b[38;5;124mparameter of \u001b[39m\u001b[38;5;124m\\\u001b[39m\u001b[38;5;124mw+ must be\u001b[39m\u001b[38;5;124m\"\u001b[39m,\n\u001b[1;32m    219\u001b[0m         \u001b[38;5;124mf\u001b[39m\u001b[38;5;124m\"\u001b[39m\u001b[38;5;124mparameter of \u001b[39m\u001b[38;5;132;01m{\u001b[39;00mfunc\u001b[38;5;241m.\u001b[39m\u001b[38;5;18m__qualname__\u001b[39m\u001b[38;5;132;01m}\u001b[39;00m\u001b[38;5;124m must be\u001b[39m\u001b[38;5;124m\"\u001b[39m,\n\u001b[1;32m    220\u001b[0m         \u001b[38;5;28mstr\u001b[39m(e),\n\u001b[1;32m    221\u001b[0m     )\n",
      "File \u001b[0;32m~/anaconda3/lib/python3.11/site-packages/sklearn/metrics/_classification.py:2561\u001b[0m, in \u001b[0;36mclassification_report\u001b[0;34m(y_true, y_pred, labels, target_names, sample_weight, digits, output_dict, zero_division)\u001b[0m\n\u001b[1;32m   2555\u001b[0m         warnings\u001b[38;5;241m.\u001b[39mwarn(\n\u001b[1;32m   2556\u001b[0m             \u001b[38;5;124m\"\u001b[39m\u001b[38;5;124mlabels size, \u001b[39m\u001b[38;5;132;01m{0}\u001b[39;00m\u001b[38;5;124m, does not match size of target_names, \u001b[39m\u001b[38;5;132;01m{1}\u001b[39;00m\u001b[38;5;124m\"\u001b[39m\u001b[38;5;241m.\u001b[39mformat(\n\u001b[1;32m   2557\u001b[0m                 \u001b[38;5;28mlen\u001b[39m(labels), \u001b[38;5;28mlen\u001b[39m(target_names)\n\u001b[1;32m   2558\u001b[0m             )\n\u001b[1;32m   2559\u001b[0m         )\n\u001b[1;32m   2560\u001b[0m     \u001b[38;5;28;01melse\u001b[39;00m:\n\u001b[0;32m-> 2561\u001b[0m         \u001b[38;5;28;01mraise\u001b[39;00m \u001b[38;5;167;01mValueError\u001b[39;00m(\n\u001b[1;32m   2562\u001b[0m             \u001b[38;5;124m\"\u001b[39m\u001b[38;5;124mNumber of classes, \u001b[39m\u001b[38;5;132;01m{0}\u001b[39;00m\u001b[38;5;124m, does not match size of \u001b[39m\u001b[38;5;124m\"\u001b[39m\n\u001b[1;32m   2563\u001b[0m             \u001b[38;5;124m\"\u001b[39m\u001b[38;5;124mtarget_names, \u001b[39m\u001b[38;5;132;01m{1}\u001b[39;00m\u001b[38;5;124m. Try specifying the labels \u001b[39m\u001b[38;5;124m\"\u001b[39m\n\u001b[1;32m   2564\u001b[0m             \u001b[38;5;124m\"\u001b[39m\u001b[38;5;124mparameter\u001b[39m\u001b[38;5;124m\"\u001b[39m\u001b[38;5;241m.\u001b[39mformat(\u001b[38;5;28mlen\u001b[39m(labels), \u001b[38;5;28mlen\u001b[39m(target_names))\n\u001b[1;32m   2565\u001b[0m         )\n\u001b[1;32m   2566\u001b[0m \u001b[38;5;28;01mif\u001b[39;00m target_names \u001b[38;5;129;01mis\u001b[39;00m \u001b[38;5;28;01mNone\u001b[39;00m:\n\u001b[1;32m   2567\u001b[0m     target_names \u001b[38;5;241m=\u001b[39m [\u001b[38;5;124m\"\u001b[39m\u001b[38;5;132;01m%s\u001b[39;00m\u001b[38;5;124m\"\u001b[39m \u001b[38;5;241m%\u001b[39m l \u001b[38;5;28;01mfor\u001b[39;00m l \u001b[38;5;129;01min\u001b[39;00m labels]\n",
      "\u001b[0;31mValueError\u001b[0m: Number of classes, 7, does not match size of target_names, 2. Try specifying the labels parameter"
     ]
    }
   ],
   "source": [
    "y_pred = model.predict(X_test)\n",
    "target_names = ['0', '1']\n",
    "print(classification_report(y_testone, y_pred, target_names=target_names))"
   ]
  },
  {
   "cell_type": "raw",
   "id": "b88e517e-8dcb-47c4-a9ad-73f7cf798f66",
   "metadata": {},
   "source": [
    "\n",
    "K-Nearest Neighbours\n"
   ]
  },
  {
   "cell_type": "code",
   "execution_count": 106,
   "id": "67d64bc4-f4b1-4d51-b864-53fe7ed0a145",
   "metadata": {
    "tags": []
   },
   "outputs": [
    {
     "ename": "AttributeError",
     "evalue": "'Flags' object has no attribute 'c_contiguous'",
     "output_type": "error",
     "traceback": [
      "\u001b[0;31m---------------------------------------------------------------------------\u001b[0m",
      "\u001b[0;31mAttributeError\u001b[0m                            Traceback (most recent call last)",
      "Cell \u001b[0;32mIn[106], line 9\u001b[0m\n\u001b[1;32m      6\u001b[0m current_model \u001b[38;5;241m=\u001b[39m KNeighborsClassifier(n)\n\u001b[1;32m      7\u001b[0m current_model\u001b[38;5;241m.\u001b[39mfit(X_train, y_transformed)\n\u001b[0;32m----> 9\u001b[0m score \u001b[38;5;241m=\u001b[39m current_model\u001b[38;5;241m.\u001b[39mscore(X_test, y_testone)\n\u001b[1;32m     11\u001b[0m \u001b[38;5;28;01mif\u001b[39;00m score \u001b[38;5;241m>\u001b[39m best_score:\n\u001b[1;32m     12\u001b[0m     best_score \u001b[38;5;241m=\u001b[39m score\n",
      "File \u001b[0;32m~/anaconda3/lib/python3.11/site-packages/sklearn/base.py:705\u001b[0m, in \u001b[0;36mClassifierMixin.score\u001b[0;34m(self, X, y, sample_weight)\u001b[0m\n\u001b[1;32m    680\u001b[0m \u001b[38;5;250m\u001b[39m\u001b[38;5;124;03m\"\"\"\u001b[39;00m\n\u001b[1;32m    681\u001b[0m \u001b[38;5;124;03mReturn the mean accuracy on the given test data and labels.\u001b[39;00m\n\u001b[1;32m    682\u001b[0m \n\u001b[0;32m   (...)\u001b[0m\n\u001b[1;32m    701\u001b[0m \u001b[38;5;124;03m    Mean accuracy of ``self.predict(X)`` w.r.t. `y`.\u001b[39;00m\n\u001b[1;32m    702\u001b[0m \u001b[38;5;124;03m\"\"\"\u001b[39;00m\n\u001b[1;32m    703\u001b[0m \u001b[38;5;28;01mfrom\u001b[39;00m \u001b[38;5;21;01m.\u001b[39;00m\u001b[38;5;21;01mmetrics\u001b[39;00m \u001b[38;5;28;01mimport\u001b[39;00m accuracy_score\n\u001b[0;32m--> 705\u001b[0m \u001b[38;5;28;01mreturn\u001b[39;00m accuracy_score(y, \u001b[38;5;28mself\u001b[39m\u001b[38;5;241m.\u001b[39mpredict(X), sample_weight\u001b[38;5;241m=\u001b[39msample_weight)\n",
      "File \u001b[0;32m~/anaconda3/lib/python3.11/site-packages/sklearn/neighbors/_classification.py:246\u001b[0m, in \u001b[0;36mKNeighborsClassifier.predict\u001b[0;34m(self, X)\u001b[0m\n\u001b[1;32m    244\u001b[0m check_is_fitted(\u001b[38;5;28mself\u001b[39m, \u001b[38;5;124m\"\u001b[39m\u001b[38;5;124m_fit_method\u001b[39m\u001b[38;5;124m\"\u001b[39m)\n\u001b[1;32m    245\u001b[0m \u001b[38;5;28;01mif\u001b[39;00m \u001b[38;5;28mself\u001b[39m\u001b[38;5;241m.\u001b[39mweights \u001b[38;5;241m==\u001b[39m \u001b[38;5;124m\"\u001b[39m\u001b[38;5;124muniform\u001b[39m\u001b[38;5;124m\"\u001b[39m:\n\u001b[0;32m--> 246\u001b[0m     \u001b[38;5;28;01mif\u001b[39;00m \u001b[38;5;28mself\u001b[39m\u001b[38;5;241m.\u001b[39m_fit_method \u001b[38;5;241m==\u001b[39m \u001b[38;5;124m\"\u001b[39m\u001b[38;5;124mbrute\u001b[39m\u001b[38;5;124m\"\u001b[39m \u001b[38;5;129;01mand\u001b[39;00m ArgKminClassMode\u001b[38;5;241m.\u001b[39mis_usable_for(\n\u001b[1;32m    247\u001b[0m         X, \u001b[38;5;28mself\u001b[39m\u001b[38;5;241m.\u001b[39m_fit_X, \u001b[38;5;28mself\u001b[39m\u001b[38;5;241m.\u001b[39mmetric\n\u001b[1;32m    248\u001b[0m     ):\n\u001b[1;32m    249\u001b[0m         probabilities \u001b[38;5;241m=\u001b[39m \u001b[38;5;28mself\u001b[39m\u001b[38;5;241m.\u001b[39mpredict_proba(X)\n\u001b[1;32m    250\u001b[0m         \u001b[38;5;28;01mif\u001b[39;00m \u001b[38;5;28mself\u001b[39m\u001b[38;5;241m.\u001b[39moutputs_2d_:\n",
      "File \u001b[0;32m~/anaconda3/lib/python3.11/site-packages/sklearn/metrics/_pairwise_distances_reduction/_dispatcher.py:471\u001b[0m, in \u001b[0;36mArgKminClassMode.is_usable_for\u001b[0;34m(cls, X, Y, metric)\u001b[0m\n\u001b[1;32m    448\u001b[0m \u001b[38;5;129m@classmethod\u001b[39m\n\u001b[1;32m    449\u001b[0m \u001b[38;5;28;01mdef\u001b[39;00m \u001b[38;5;21mis_usable_for\u001b[39m(\u001b[38;5;28mcls\u001b[39m, X, Y, metric) \u001b[38;5;241m-\u001b[39m\u001b[38;5;241m>\u001b[39m \u001b[38;5;28mbool\u001b[39m:\n\u001b[1;32m    450\u001b[0m \u001b[38;5;250m    \u001b[39m\u001b[38;5;124;03m\"\"\"Return True if the dispatcher can be used for the given parameters.\u001b[39;00m\n\u001b[1;32m    451\u001b[0m \n\u001b[1;32m    452\u001b[0m \u001b[38;5;124;03m    Parameters\u001b[39;00m\n\u001b[0;32m   (...)\u001b[0m\n\u001b[1;32m    468\u001b[0m \u001b[38;5;124;03m    True if the PairwiseDistancesReduction can be used, else False.\u001b[39;00m\n\u001b[1;32m    469\u001b[0m \u001b[38;5;124;03m    \"\"\"\u001b[39;00m\n\u001b[1;32m    470\u001b[0m     \u001b[38;5;28;01mreturn\u001b[39;00m (\n\u001b[0;32m--> 471\u001b[0m         ArgKmin\u001b[38;5;241m.\u001b[39mis_usable_for(X, Y, metric)\n\u001b[1;32m    472\u001b[0m         \u001b[38;5;66;03m# TODO: Support CSR matrices.\u001b[39;00m\n\u001b[1;32m    473\u001b[0m         \u001b[38;5;129;01mand\u001b[39;00m \u001b[38;5;129;01mnot\u001b[39;00m issparse(X)\n\u001b[1;32m    474\u001b[0m         \u001b[38;5;129;01mand\u001b[39;00m \u001b[38;5;129;01mnot\u001b[39;00m issparse(Y)\n\u001b[1;32m    475\u001b[0m         \u001b[38;5;66;03m# TODO: implement Euclidean specialization with GEMM.\u001b[39;00m\n\u001b[1;32m    476\u001b[0m         \u001b[38;5;129;01mand\u001b[39;00m metric \u001b[38;5;129;01mnot\u001b[39;00m \u001b[38;5;129;01min\u001b[39;00m (\u001b[38;5;124m\"\u001b[39m\u001b[38;5;124meuclidean\u001b[39m\u001b[38;5;124m\"\u001b[39m, \u001b[38;5;124m\"\u001b[39m\u001b[38;5;124msqeuclidean\u001b[39m\u001b[38;5;124m\"\u001b[39m)\n\u001b[1;32m    477\u001b[0m     )\n",
      "File \u001b[0;32m~/anaconda3/lib/python3.11/site-packages/sklearn/metrics/_pairwise_distances_reduction/_dispatcher.py:115\u001b[0m, in \u001b[0;36mBaseDistancesReductionDispatcher.is_usable_for\u001b[0;34m(cls, X, Y, metric)\u001b[0m\n\u001b[1;32m    101\u001b[0m \u001b[38;5;28;01mdef\u001b[39;00m \u001b[38;5;21mis_valid_sparse_matrix\u001b[39m(X):\n\u001b[1;32m    102\u001b[0m     \u001b[38;5;28;01mreturn\u001b[39;00m (\n\u001b[1;32m    103\u001b[0m         isspmatrix_csr(X)\n\u001b[1;32m    104\u001b[0m         \u001b[38;5;129;01mand\u001b[39;00m\n\u001b[0;32m   (...)\u001b[0m\n\u001b[1;32m    110\u001b[0m         X\u001b[38;5;241m.\u001b[39mindices\u001b[38;5;241m.\u001b[39mdtype \u001b[38;5;241m==\u001b[39m X\u001b[38;5;241m.\u001b[39mindptr\u001b[38;5;241m.\u001b[39mdtype \u001b[38;5;241m==\u001b[39m np\u001b[38;5;241m.\u001b[39mint32\n\u001b[1;32m    111\u001b[0m     )\n\u001b[1;32m    113\u001b[0m is_usable \u001b[38;5;241m=\u001b[39m (\n\u001b[1;32m    114\u001b[0m     get_config()\u001b[38;5;241m.\u001b[39mget(\u001b[38;5;124m\"\u001b[39m\u001b[38;5;124menable_cython_pairwise_dist\u001b[39m\u001b[38;5;124m\"\u001b[39m, \u001b[38;5;28;01mTrue\u001b[39;00m)\n\u001b[0;32m--> 115\u001b[0m     \u001b[38;5;129;01mand\u001b[39;00m (is_numpy_c_ordered(X) \u001b[38;5;129;01mor\u001b[39;00m is_valid_sparse_matrix(X))\n\u001b[1;32m    116\u001b[0m     \u001b[38;5;129;01mand\u001b[39;00m (is_numpy_c_ordered(Y) \u001b[38;5;129;01mor\u001b[39;00m is_valid_sparse_matrix(Y))\n\u001b[1;32m    117\u001b[0m     \u001b[38;5;129;01mand\u001b[39;00m X\u001b[38;5;241m.\u001b[39mdtype \u001b[38;5;241m==\u001b[39m Y\u001b[38;5;241m.\u001b[39mdtype\n\u001b[1;32m    118\u001b[0m     \u001b[38;5;129;01mand\u001b[39;00m X\u001b[38;5;241m.\u001b[39mdtype \u001b[38;5;129;01min\u001b[39;00m (np\u001b[38;5;241m.\u001b[39mfloat32, np\u001b[38;5;241m.\u001b[39mfloat64)\n\u001b[1;32m    119\u001b[0m     \u001b[38;5;129;01mand\u001b[39;00m metric \u001b[38;5;129;01min\u001b[39;00m \u001b[38;5;28mcls\u001b[39m\u001b[38;5;241m.\u001b[39mvalid_metrics()\n\u001b[1;32m    120\u001b[0m )\n\u001b[1;32m    122\u001b[0m \u001b[38;5;28;01mreturn\u001b[39;00m is_usable\n",
      "File \u001b[0;32m~/anaconda3/lib/python3.11/site-packages/sklearn/metrics/_pairwise_distances_reduction/_dispatcher.py:99\u001b[0m, in \u001b[0;36mBaseDistancesReductionDispatcher.is_usable_for.<locals>.is_numpy_c_ordered\u001b[0;34m(X)\u001b[0m\n\u001b[1;32m     98\u001b[0m \u001b[38;5;28;01mdef\u001b[39;00m \u001b[38;5;21mis_numpy_c_ordered\u001b[39m(X):\n\u001b[0;32m---> 99\u001b[0m     \u001b[38;5;28;01mreturn\u001b[39;00m \u001b[38;5;28mhasattr\u001b[39m(X, \u001b[38;5;124m\"\u001b[39m\u001b[38;5;124mflags\u001b[39m\u001b[38;5;124m\"\u001b[39m) \u001b[38;5;129;01mand\u001b[39;00m X\u001b[38;5;241m.\u001b[39mflags\u001b[38;5;241m.\u001b[39mc_contiguous\n",
      "\u001b[0;31mAttributeError\u001b[0m: 'Flags' object has no attribute 'c_contiguous'"
     ]
    }
   ],
   "source": [
    "model = None\n",
    "best_score = -1\n",
    "scores = {}\n",
    "\n",
    "for n in range(1, 30):\n",
    "    current_model = KNeighborsClassifier(n)\n",
    "    current_model.fit(X_train, y_transformed)\n",
    "\n",
    "    score = current_model.score(X_test, y_testone)\n",
    "\n",
    "    if score > best_score:\n",
    "        best_score = score\n",
    "        model = current_model\n",
    "\n",
    "    scores[str(n)] = score\n",
    "\n",
    "plt.plot(list(scores.keys()), list(scores.values()))\n",
    "plt.show()\n",
    "print('Best N value: ' + str(model.get_params()['n_neighbors']))"
   ]
  },
  {
   "cell_type": "code",
   "execution_count": 105,
   "id": "6703978a-8d55-4602-a10e-b04b819c1dff",
   "metadata": {
    "tags": []
   },
   "outputs": [
    {
     "ename": "ValueError",
     "evalue": "Number of classes, 8, does not match size of target_names, 2. Try specifying the labels parameter",
     "output_type": "error",
     "traceback": [
      "\u001b[0;31m---------------------------------------------------------------------------\u001b[0m",
      "\u001b[0;31mValueError\u001b[0m                                Traceback (most recent call last)",
      "Cell \u001b[0;32mIn[105], line 3\u001b[0m\n\u001b[1;32m      1\u001b[0m y_pred \u001b[38;5;241m=\u001b[39m model\u001b[38;5;241m.\u001b[39mpredict(X_test)\n\u001b[1;32m      2\u001b[0m target_names \u001b[38;5;241m=\u001b[39m [\u001b[38;5;124m'\u001b[39m\u001b[38;5;124m0\u001b[39m\u001b[38;5;124m'\u001b[39m, \u001b[38;5;124m'\u001b[39m\u001b[38;5;124m1\u001b[39m\u001b[38;5;124m'\u001b[39m]\n\u001b[0;32m----> 3\u001b[0m \u001b[38;5;28mprint\u001b[39m(classification_report(y_test, y_pred, target_names\u001b[38;5;241m=\u001b[39mtarget_names))\n",
      "File \u001b[0;32m~/anaconda3/lib/python3.11/site-packages/sklearn/utils/_param_validation.py:211\u001b[0m, in \u001b[0;36mvalidate_params.<locals>.decorator.<locals>.wrapper\u001b[0;34m(*args, **kwargs)\u001b[0m\n\u001b[1;32m    205\u001b[0m \u001b[38;5;28;01mtry\u001b[39;00m:\n\u001b[1;32m    206\u001b[0m     \u001b[38;5;28;01mwith\u001b[39;00m config_context(\n\u001b[1;32m    207\u001b[0m         skip_parameter_validation\u001b[38;5;241m=\u001b[39m(\n\u001b[1;32m    208\u001b[0m             prefer_skip_nested_validation \u001b[38;5;129;01mor\u001b[39;00m global_skip_validation\n\u001b[1;32m    209\u001b[0m         )\n\u001b[1;32m    210\u001b[0m     ):\n\u001b[0;32m--> 211\u001b[0m         \u001b[38;5;28;01mreturn\u001b[39;00m func(\u001b[38;5;241m*\u001b[39margs, \u001b[38;5;241m*\u001b[39m\u001b[38;5;241m*\u001b[39mkwargs)\n\u001b[1;32m    212\u001b[0m \u001b[38;5;28;01mexcept\u001b[39;00m InvalidParameterError \u001b[38;5;28;01mas\u001b[39;00m e:\n\u001b[1;32m    213\u001b[0m     \u001b[38;5;66;03m# When the function is just a wrapper around an estimator, we allow\u001b[39;00m\n\u001b[1;32m    214\u001b[0m     \u001b[38;5;66;03m# the function to delegate validation to the estimator, but we replace\u001b[39;00m\n\u001b[1;32m    215\u001b[0m     \u001b[38;5;66;03m# the name of the estimator by the name of the function in the error\u001b[39;00m\n\u001b[1;32m    216\u001b[0m     \u001b[38;5;66;03m# message to avoid confusion.\u001b[39;00m\n\u001b[1;32m    217\u001b[0m     msg \u001b[38;5;241m=\u001b[39m re\u001b[38;5;241m.\u001b[39msub(\n\u001b[1;32m    218\u001b[0m         \u001b[38;5;124mr\u001b[39m\u001b[38;5;124m\"\u001b[39m\u001b[38;5;124mparameter of \u001b[39m\u001b[38;5;124m\\\u001b[39m\u001b[38;5;124mw+ must be\u001b[39m\u001b[38;5;124m\"\u001b[39m,\n\u001b[1;32m    219\u001b[0m         \u001b[38;5;124mf\u001b[39m\u001b[38;5;124m\"\u001b[39m\u001b[38;5;124mparameter of \u001b[39m\u001b[38;5;132;01m{\u001b[39;00mfunc\u001b[38;5;241m.\u001b[39m\u001b[38;5;18m__qualname__\u001b[39m\u001b[38;5;132;01m}\u001b[39;00m\u001b[38;5;124m must be\u001b[39m\u001b[38;5;124m\"\u001b[39m,\n\u001b[1;32m    220\u001b[0m         \u001b[38;5;28mstr\u001b[39m(e),\n\u001b[1;32m    221\u001b[0m     )\n",
      "File \u001b[0;32m~/anaconda3/lib/python3.11/site-packages/sklearn/metrics/_classification.py:2561\u001b[0m, in \u001b[0;36mclassification_report\u001b[0;34m(y_true, y_pred, labels, target_names, sample_weight, digits, output_dict, zero_division)\u001b[0m\n\u001b[1;32m   2555\u001b[0m         warnings\u001b[38;5;241m.\u001b[39mwarn(\n\u001b[1;32m   2556\u001b[0m             \u001b[38;5;124m\"\u001b[39m\u001b[38;5;124mlabels size, \u001b[39m\u001b[38;5;132;01m{0}\u001b[39;00m\u001b[38;5;124m, does not match size of target_names, \u001b[39m\u001b[38;5;132;01m{1}\u001b[39;00m\u001b[38;5;124m\"\u001b[39m\u001b[38;5;241m.\u001b[39mformat(\n\u001b[1;32m   2557\u001b[0m                 \u001b[38;5;28mlen\u001b[39m(labels), \u001b[38;5;28mlen\u001b[39m(target_names)\n\u001b[1;32m   2558\u001b[0m             )\n\u001b[1;32m   2559\u001b[0m         )\n\u001b[1;32m   2560\u001b[0m     \u001b[38;5;28;01melse\u001b[39;00m:\n\u001b[0;32m-> 2561\u001b[0m         \u001b[38;5;28;01mraise\u001b[39;00m \u001b[38;5;167;01mValueError\u001b[39;00m(\n\u001b[1;32m   2562\u001b[0m             \u001b[38;5;124m\"\u001b[39m\u001b[38;5;124mNumber of classes, \u001b[39m\u001b[38;5;132;01m{0}\u001b[39;00m\u001b[38;5;124m, does not match size of \u001b[39m\u001b[38;5;124m\"\u001b[39m\n\u001b[1;32m   2563\u001b[0m             \u001b[38;5;124m\"\u001b[39m\u001b[38;5;124mtarget_names, \u001b[39m\u001b[38;5;132;01m{1}\u001b[39;00m\u001b[38;5;124m. Try specifying the labels \u001b[39m\u001b[38;5;124m\"\u001b[39m\n\u001b[1;32m   2564\u001b[0m             \u001b[38;5;124m\"\u001b[39m\u001b[38;5;124mparameter\u001b[39m\u001b[38;5;124m\"\u001b[39m\u001b[38;5;241m.\u001b[39mformat(\u001b[38;5;28mlen\u001b[39m(labels), \u001b[38;5;28mlen\u001b[39m(target_names))\n\u001b[1;32m   2565\u001b[0m         )\n\u001b[1;32m   2566\u001b[0m \u001b[38;5;28;01mif\u001b[39;00m target_names \u001b[38;5;129;01mis\u001b[39;00m \u001b[38;5;28;01mNone\u001b[39;00m:\n\u001b[1;32m   2567\u001b[0m     target_names \u001b[38;5;241m=\u001b[39m [\u001b[38;5;124m\"\u001b[39m\u001b[38;5;132;01m%s\u001b[39;00m\u001b[38;5;124m\"\u001b[39m \u001b[38;5;241m%\u001b[39m l \u001b[38;5;28;01mfor\u001b[39;00m l \u001b[38;5;129;01min\u001b[39;00m labels]\n",
      "\u001b[0;31mValueError\u001b[0m: Number of classes, 8, does not match size of target_names, 2. Try specifying the labels parameter"
     ]
    }
   ],
   "source": [
    "y_pred = model.predict(X_test)\n",
    "target_names = ['0', '1']\n",
    "print(classification_report(y_test, y_pred, target_names=target_names))"
   ]
  },
  {
   "cell_type": "raw",
   "id": "399bce71-2349-409e-8da7-85bc5b225d15",
   "metadata": {},
   "source": [
    "\n",
    "\n",
    "Conclusion: KNN performs similarly to Logistic Regression on class 0, but worse on Recall for class 1.\n"
   ]
  },
  {
   "cell_type": "code",
   "execution_count": null,
   "id": "bc2442d1-5d9b-4390-beee-772511cb7488",
   "metadata": {},
   "outputs": [],
   "source": []
  }
 ],
 "metadata": {
  "kernelspec": {
   "display_name": "Python 3 (ipykernel)",
   "language": "python",
   "name": "python3"
  },
  "language_info": {
   "codemirror_mode": {
    "name": "ipython",
    "version": 3
   },
   "file_extension": ".py",
   "mimetype": "text/x-python",
   "name": "python",
   "nbconvert_exporter": "python",
   "pygments_lexer": "ipython3",
   "version": "3.11.3"
  }
 },
 "nbformat": 4,
 "nbformat_minor": 5
}
